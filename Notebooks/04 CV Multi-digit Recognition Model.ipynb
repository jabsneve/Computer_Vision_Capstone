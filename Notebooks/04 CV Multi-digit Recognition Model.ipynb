{
 "cells": [
  {
   "cell_type": "code",
   "execution_count": 1,
   "metadata": {},
   "outputs": [],
   "source": [
    "import numpy as np\n",
    "import tensorflow as tf\n",
    "import pandas as pd\n",
    "from tensorflow import keras\n",
    "from tensorflow.keras.models import Model\n",
    "from tensorflow.keras.layers import Dense, Input, Flatten, BatchNormalization, Conv2D, MaxPooling2D, Dropout\n",
    "from tensorflow.keras.optimizers import Adam\n",
    "from tensorflow.keras.metrics import categorical_crossentropy\n",
    "from tensorflow.keras.callbacks import EarlyStopping\n",
    "from tensorflow.keras.utils import to_categorical\n",
    "import matplotlib.pyplot as plt\n",
    "import warnings\n",
    "import glob\n",
    "from PIL import Image, ImageDraw\n",
    "warnings.simplefilter(action='ignore', category=FutureWarning)\n",
    "%matplotlib inline"
   ]
  },
  {
   "cell_type": "code",
   "execution_count": 2,
   "metadata": {},
   "outputs": [],
   "source": [
    "# check out the file names within the directory\n",
    "\n",
    "data = glob.glob('../RawData/csv/*')"
   ]
  },
  {
   "cell_type": "code",
   "execution_count": 3,
   "metadata": {},
   "outputs": [
    {
     "data": {
      "text/plain": [
       "['../RawData/csv\\\\extra_images.csv',\n",
       " '../RawData/csv\\\\extra_images_2.csv',\n",
       " '../RawData/csv\\\\extra_labels.csv',\n",
       " '../RawData/csv\\\\extra_labels_2.csv',\n",
       " '../RawData/csv\\\\test_images.csv',\n",
       " '../RawData/csv\\\\test_images_2.csv',\n",
       " '../RawData/csv\\\\test_labels.csv',\n",
       " '../RawData/csv\\\\test_labels_2.csv',\n",
       " '../RawData/csv\\\\train_images.csv',\n",
       " '../RawData/csv\\\\train_images_2.csv',\n",
       " '../RawData/csv\\\\train_labels.csv',\n",
       " '../RawData/csv\\\\train_labels_2.csv']"
      ]
     },
     "execution_count": 3,
     "metadata": {},
     "output_type": "execute_result"
    }
   ],
   "source": [
    "data"
   ]
  },
  {
   "cell_type": "code",
   "execution_count": 4,
   "metadata": {},
   "outputs": [],
   "source": [
    "train_images = pd.read_csv('../RawData/csv/train_images.csv')\n",
    "train_images_2 = pd.read_csv('../RawData/csv/train_images_2.csv')\n",
    "train_labels = pd.read_csv('../RawData/csv/train_labels.csv')\n",
    "train_labels_2 = pd.read_csv('../RawData/csv/train_labels_2.csv')\n",
    "test_images = pd.read_csv('../RawData/csv/test_images.csv')\n",
    "test_labels = pd.read_csv('../RawData/csv/test_labels.csv')\n",
    "extra_images = pd.read_csv('../RawData/csv/extra_images.csv')\n",
    "extra_labels = pd.read_csv('../RawData/csv/extra_labels.csv')"
   ]
  },
  {
   "cell_type": "code",
   "execution_count": 5,
   "metadata": {},
   "outputs": [
    {
     "data": {
      "text/html": [
       "<div>\n",
       "<style scoped>\n",
       "    .dataframe tbody tr th:only-of-type {\n",
       "        vertical-align: middle;\n",
       "    }\n",
       "\n",
       "    .dataframe tbody tr th {\n",
       "        vertical-align: top;\n",
       "    }\n",
       "\n",
       "    .dataframe thead th {\n",
       "        text-align: right;\n",
       "    }\n",
       "</style>\n",
       "<table border=\"1\" class=\"dataframe\">\n",
       "  <thead>\n",
       "    <tr style=\"text-align: right;\">\n",
       "      <th></th>\n",
       "      <th>filename</th>\n",
       "      <th>0</th>\n",
       "      <th>1</th>\n",
       "      <th>2</th>\n",
       "      <th>3</th>\n",
       "      <th>4</th>\n",
       "      <th>5</th>\n",
       "      <th>6</th>\n",
       "      <th>7</th>\n",
       "      <th>8</th>\n",
       "      <th>...</th>\n",
       "      <th>1014</th>\n",
       "      <th>1015</th>\n",
       "      <th>1016</th>\n",
       "      <th>1017</th>\n",
       "      <th>1018</th>\n",
       "      <th>1019</th>\n",
       "      <th>1020</th>\n",
       "      <th>1021</th>\n",
       "      <th>1022</th>\n",
       "      <th>1023</th>\n",
       "    </tr>\n",
       "  </thead>\n",
       "  <tbody>\n",
       "    <tr>\n",
       "      <th>0</th>\n",
       "      <td>5502.png</td>\n",
       "      <td>0.352349</td>\n",
       "      <td>0.366906</td>\n",
       "      <td>0.373620</td>\n",
       "      <td>0.360278</td>\n",
       "      <td>0.330929</td>\n",
       "      <td>0.309424</td>\n",
       "      <td>0.293906</td>\n",
       "      <td>0.297059</td>\n",
       "      <td>0.304902</td>\n",
       "      <td>...</td>\n",
       "      <td>0.474878</td>\n",
       "      <td>0.470063</td>\n",
       "      <td>0.467549</td>\n",
       "      <td>0.470576</td>\n",
       "      <td>0.476565</td>\n",
       "      <td>0.470106</td>\n",
       "      <td>0.438710</td>\n",
       "      <td>0.421169</td>\n",
       "      <td>0.385192</td>\n",
       "      <td>0.345294</td>\n",
       "    </tr>\n",
       "    <tr>\n",
       "      <th>1</th>\n",
       "      <td>6876.png</td>\n",
       "      <td>0.754941</td>\n",
       "      <td>0.726082</td>\n",
       "      <td>0.680365</td>\n",
       "      <td>0.628380</td>\n",
       "      <td>0.572475</td>\n",
       "      <td>0.520447</td>\n",
       "      <td>0.486898</td>\n",
       "      <td>0.469718</td>\n",
       "      <td>0.449831</td>\n",
       "      <td>...</td>\n",
       "      <td>0.485941</td>\n",
       "      <td>0.496576</td>\n",
       "      <td>0.506486</td>\n",
       "      <td>0.513882</td>\n",
       "      <td>0.515012</td>\n",
       "      <td>0.508341</td>\n",
       "      <td>0.515290</td>\n",
       "      <td>0.526161</td>\n",
       "      <td>0.558259</td>\n",
       "      <td>0.578592</td>\n",
       "    </tr>\n",
       "    <tr>\n",
       "      <th>2</th>\n",
       "      <td>12741.png</td>\n",
       "      <td>0.180714</td>\n",
       "      <td>0.192925</td>\n",
       "      <td>0.204243</td>\n",
       "      <td>0.226600</td>\n",
       "      <td>0.233271</td>\n",
       "      <td>0.227729</td>\n",
       "      <td>0.225663</td>\n",
       "      <td>0.221294</td>\n",
       "      <td>0.218545</td>\n",
       "      <td>...</td>\n",
       "      <td>0.482420</td>\n",
       "      <td>0.495078</td>\n",
       "      <td>0.532439</td>\n",
       "      <td>0.593161</td>\n",
       "      <td>0.634722</td>\n",
       "      <td>0.678584</td>\n",
       "      <td>0.745933</td>\n",
       "      <td>0.725878</td>\n",
       "      <td>0.620443</td>\n",
       "      <td>0.527667</td>\n",
       "    </tr>\n",
       "  </tbody>\n",
       "</table>\n",
       "<p>3 rows × 1025 columns</p>\n",
       "</div>"
      ],
      "text/plain": [
       "    filename         0         1         2         3         4         5  \\\n",
       "0   5502.png  0.352349  0.366906  0.373620  0.360278  0.330929  0.309424   \n",
       "1   6876.png  0.754941  0.726082  0.680365  0.628380  0.572475  0.520447   \n",
       "2  12741.png  0.180714  0.192925  0.204243  0.226600  0.233271  0.227729   \n",
       "\n",
       "          6         7         8  ...      1014      1015      1016      1017  \\\n",
       "0  0.293906  0.297059  0.304902  ...  0.474878  0.470063  0.467549  0.470576   \n",
       "1  0.486898  0.469718  0.449831  ...  0.485941  0.496576  0.506486  0.513882   \n",
       "2  0.225663  0.221294  0.218545  ...  0.482420  0.495078  0.532439  0.593161   \n",
       "\n",
       "       1018      1019      1020      1021      1022      1023  \n",
       "0  0.476565  0.470106  0.438710  0.421169  0.385192  0.345294  \n",
       "1  0.515012  0.508341  0.515290  0.526161  0.558259  0.578592  \n",
       "2  0.634722  0.678584  0.745933  0.725878  0.620443  0.527667  \n",
       "\n",
       "[3 rows x 1025 columns]"
      ]
     },
     "execution_count": 5,
     "metadata": {},
     "output_type": "execute_result"
    }
   ],
   "source": [
    "train_images.head(3)"
   ]
  },
  {
   "cell_type": "code",
   "execution_count": 6,
   "metadata": {},
   "outputs": [
    {
     "data": {
      "text/html": [
       "<div>\n",
       "<style scoped>\n",
       "    .dataframe tbody tr th:only-of-type {\n",
       "        vertical-align: middle;\n",
       "    }\n",
       "\n",
       "    .dataframe tbody tr th {\n",
       "        vertical-align: top;\n",
       "    }\n",
       "\n",
       "    .dataframe thead th {\n",
       "        text-align: right;\n",
       "    }\n",
       "</style>\n",
       "<table border=\"1\" class=\"dataframe\">\n",
       "  <thead>\n",
       "    <tr style=\"text-align: right;\">\n",
       "      <th></th>\n",
       "      <th>filename</th>\n",
       "      <th>0</th>\n",
       "      <th>1</th>\n",
       "      <th>2</th>\n",
       "      <th>3</th>\n",
       "      <th>4</th>\n",
       "    </tr>\n",
       "  </thead>\n",
       "  <tbody>\n",
       "    <tr>\n",
       "      <th>0</th>\n",
       "      <td>5502.png</td>\n",
       "      <td>10.0</td>\n",
       "      <td>10.0</td>\n",
       "      <td>10.0</td>\n",
       "      <td>3.0</td>\n",
       "      <td>5.0</td>\n",
       "    </tr>\n",
       "    <tr>\n",
       "      <th>1</th>\n",
       "      <td>6876.png</td>\n",
       "      <td>10.0</td>\n",
       "      <td>10.0</td>\n",
       "      <td>10.0</td>\n",
       "      <td>1.0</td>\n",
       "      <td>5.0</td>\n",
       "    </tr>\n",
       "    <tr>\n",
       "      <th>2</th>\n",
       "      <td>12741.png</td>\n",
       "      <td>10.0</td>\n",
       "      <td>10.0</td>\n",
       "      <td>10.0</td>\n",
       "      <td>2.0</td>\n",
       "      <td>9.0</td>\n",
       "    </tr>\n",
       "  </tbody>\n",
       "</table>\n",
       "</div>"
      ],
      "text/plain": [
       "    filename     0     1     2    3    4\n",
       "0   5502.png  10.0  10.0  10.0  3.0  5.0\n",
       "1   6876.png  10.0  10.0  10.0  1.0  5.0\n",
       "2  12741.png  10.0  10.0  10.0  2.0  9.0"
      ]
     },
     "execution_count": 6,
     "metadata": {},
     "output_type": "execute_result"
    }
   ],
   "source": [
    "train_labels.head(3)"
   ]
  },
  {
   "cell_type": "markdown",
   "metadata": {},
   "source": [
    "Looking at the labels dataframe we see the preprocessed data only includes images of numbers up to 5 digits in length.\n",
    "\n",
    "When using pandas read_csv the images are imported as pandas dataframes. In order to have the data work within the model the images will need to be changed to data type float32 and the labels to int16."
   ]
  },
  {
   "cell_type": "code",
   "execution_count": 7,
   "metadata": {},
   "outputs": [],
   "source": [
    "# convert all values in all rows and all columns beginning at column index 1 to float32\n",
    "\n",
    "train_images = np.array(train_images.iloc[:,1:].astype('float32'))\n",
    "train_labels = np.array(train_labels.iloc[:,1:].astype('float32'))\n",
    "\n",
    "train_images_2 = np.array(train_images_2.iloc[:,1:].astype('float32'))\n",
    "train_labels_2 = np.array(train_labels_2.iloc[:,1:].astype('float32'))\n",
    "\n",
    "test_images = np.array(test_images.iloc[:,1:].astype('float32'))\n",
    "test_labels = np.array(test_labels.iloc[:,1:].astype('float32'))\n",
    "\n",
    "extra_images = np.array(extra_images.iloc[:,1:].astype('float32'))\n",
    "extra_labels = np.array(extra_labels.iloc[:,1:].astype('float32'))"
   ]
  },
  {
   "cell_type": "code",
   "execution_count": 8,
   "metadata": {},
   "outputs": [
    {
     "name": "stdout",
     "output_type": "stream",
     "text": [
      "Label:  [10. 10. 10.  3.  6.]\n"
     ]
    },
    {
     "data": {
      "image/png": "[encoded data removed]",
      "text/plain": [
       "<Figure size 432x288 with 1 Axes>"
      ]
     },
     "metadata": {
      "needs_background": "light"
     },
     "output_type": "display_data"
    }
   ],
   "source": [
    "# plot an image to get a visual of what they look like\n",
    "\n",
    "print('Label: ', train_labels[4])\n",
    "plt.imshow(train_images[4].reshape(32,32), cmap=plt.cm.bone)\n",
    "\n",
    "plt.show()"
   ]
  },
  {
   "cell_type": "markdown",
   "metadata": {},
   "source": [
    "We see a grayscale image of the number 36. The label produced is a list of 5 values each values representing a digit or null value. \n",
    "- 10 = null\n",
    "- 10 = null\n",
    "- 10 = null\n",
    "- 3 = 3\n",
    "- 6 = 6"
   ]
  },
  {
   "cell_type": "code",
   "execution_count": 9,
   "metadata": {},
   "outputs": [],
   "source": [
    "# define a function to create a binary matrix from the labels arrays\n",
    "\n",
    "def digit_to_categorical(data):\n",
    "    n = data.shape[1]\n",
    "    data_cat = np.empty([len(data), n, 11])    \n",
    "    for i in range(n):\n",
    "        data_cat[:, i] = to_categorical(data[:, i], num_classes=11)        \n",
    "    return data_cat"
   ]
  },
  {
   "cell_type": "code",
   "execution_count": 10,
   "metadata": {},
   "outputs": [],
   "source": [
    "# concatenate and reshape the 2 training sets (images and labels)\n",
    "\n",
    "img_train = np.concatenate((train_images.reshape(-1, 32, 32, 1),\n",
    "                            train_images_2.reshape(-1, 32, 32, 1)),\n",
    "                            axis=0)\n",
    "lbl_train = np.concatenate((digit_to_categorical(train_labels),\n",
    "                            digit_to_categorical(train_labels_2)),\n",
    "                            axis=0)"
   ]
  },
  {
   "cell_type": "code",
   "execution_count": 11,
   "metadata": {},
   "outputs": [],
   "source": [
    "# make extra images and labels the validation sets\n",
    "\n",
    "img_valid = extra_images.reshape(-1, 32, 32, 1)\n",
    "lbl_valid = digit_to_categorical(extra_labels)"
   ]
  },
  {
   "cell_type": "code",
   "execution_count": 12,
   "metadata": {},
   "outputs": [],
   "source": [
    "# reshape and binarize the test sets\n",
    "\n",
    "img_test = test_images.reshape(-1, 32, 32, 1)\n",
    "lbl_test = digit_to_categorical(test_labels)"
   ]
  },
  {
   "cell_type": "code",
   "execution_count": 13,
   "metadata": {},
   "outputs": [
    {
     "name": "stdout",
     "output_type": "stream",
     "text": [
      "Training images shape:   (26000, 32, 32, 1)\n",
      "Validation images shape: (13000, 32, 32, 1)\n",
      "Testing images shape:    (6000, 32, 32, 1)\n",
      "Training labels shape:   (26000, 5, 11)\n",
      "Validation labels shape: (13000, 5, 11)\n",
      "Testing labels shape:    (6000, 5, 11)\n"
     ]
    }
   ],
   "source": [
    "# check to ensure the image and label data are of the correct shape\n",
    "\n",
    "print('Training images shape:  ', img_train.shape)\n",
    "print('Validation images shape:', img_valid.shape)\n",
    "print('Testing images shape:   ', img_test.shape)\n",
    "print('Training labels shape:  ', lbl_train.shape)\n",
    "print('Validation labels shape:', lbl_valid.shape)\n",
    "print('Testing labels shape:   ', lbl_test.shape)"
   ]
  },
  {
   "cell_type": "code",
   "execution_count": 14,
   "metadata": {},
   "outputs": [],
   "source": [
    "# convert label arrays into lists\n",
    "\n",
    "lbl_train_list = [lbl_train[:, i] for i in range(5)]\n",
    "lbl_test_list = [lbl_test[:, i] for i in range(5)]\n",
    "lbl_valid_list = [lbl_valid[:, i] for i in range(5)]"
   ]
  },
  {
   "cell_type": "markdown",
   "metadata": {},
   "source": [
    "# Keras Functional Model"
   ]
  },
  {
   "cell_type": "code",
   "execution_count": 15,
   "metadata": {},
   "outputs": [],
   "source": [
    "def cnn_model():    \n",
    "    model_input = Input(shape=(32, 32, 1))\n",
    "    x = BatchNormalization()(model_input)\n",
    "        \n",
    "    x = Conv2D(32, (3, 3), activation='relu', padding='same')(model_input)\n",
    "    x = Conv2D(32, (3, 3), activation='relu', padding='same')(x)\n",
    "    x = BatchNormalization()(x)\n",
    "    x = MaxPooling2D(pool_size=(2, 2))(x)\n",
    "    x = Dropout(0.2)(x)\n",
    "    \n",
    "    #x = Conv2D(64, (3, 3), activation='relu')(x)\n",
    "    #x = BatchNormalization()(x)\n",
    "    x = Conv2D(64, (3, 3), activation='relu', padding='same')(x)\n",
    "    x = BatchNormalization()(x)\n",
    "    x = MaxPooling2D(pool_size=(2, 2))(x)\n",
    "    x = Dropout(0.3)(x)\n",
    "    \n",
    "    #x = Conv2D(128, (3, 3), activation='relu')(x)\n",
    "    #x = BatchNormalization()(x)\n",
    "    x = Conv2D(128, (3, 3), activation='relu', padding='same')(x)\n",
    "    x = BatchNormalization()(x)\n",
    "    x = MaxPooling2D(pool_size=(2, 2))(x)\n",
    "    x = Dropout(0.4)(x)\n",
    "    \n",
    "    x = Flatten()(x)\n",
    "    x = Dense(512, activation='relu')(x)\n",
    "    x = Dropout(0.5)(x)\n",
    "    \n",
    "    out = [Dense(11, activation='softmax')(x) for i in range(5)]\n",
    "    \n",
    "    model = Model(inputs=model_input, outputs=out)\n",
    "    \n",
    "    model.compile(loss='categorical_crossentropy', optimizer='adam', metrics=['accuracy'])\n",
    "    return model"
   ]
  },
  {
   "cell_type": "code",
   "execution_count": 16,
   "metadata": {},
   "outputs": [],
   "source": [
    "cnn_model = cnn_model()"
   ]
  },
  {
   "cell_type": "code",
   "execution_count": 17,
   "metadata": {},
   "outputs": [],
   "source": [
    "e_brake = EarlyStopping(monitor='val_loss', patience=8)"
   ]
  },
  {
   "cell_type": "code",
   "execution_count": 18,
   "metadata": {},
   "outputs": [
    {
     "name": "stdout",
     "output_type": "stream",
     "text": [
      "Model: \"model\"\n",
      "__________________________________________________________________________________________________\n",
      "Layer (type)                    Output Shape         Param #     Connected to                     \n",
      "==================================================================================================\n",
      "input_1 (InputLayer)            [(None, 32, 32, 1)]  0                                            \n",
      "__________________________________________________________________________________________________\n",
      "conv2d (Conv2D)                 (None, 32, 32, 32)   320         input_1[0][0]                    \n",
      "__________________________________________________________________________________________________\n",
      "conv2d_1 (Conv2D)               (None, 32, 32, 32)   9248        conv2d[0][0]                     \n",
      "__________________________________________________________________________________________________\n",
      "batch_normalization_1 (BatchNor (None, 32, 32, 32)   128         conv2d_1[0][0]                   \n",
      "__________________________________________________________________________________________________\n",
      "max_pooling2d (MaxPooling2D)    (None, 16, 16, 32)   0           batch_normalization_1[0][0]      \n",
      "__________________________________________________________________________________________________\n",
      "dropout (Dropout)               (None, 16, 16, 32)   0           max_pooling2d[0][0]              \n",
      "__________________________________________________________________________________________________\n",
      "conv2d_2 (Conv2D)               (None, 16, 16, 64)   18496       dropout[0][0]                    \n",
      "__________________________________________________________________________________________________\n",
      "batch_normalization_2 (BatchNor (None, 16, 16, 64)   256         conv2d_2[0][0]                   \n",
      "__________________________________________________________________________________________________\n",
      "max_pooling2d_1 (MaxPooling2D)  (None, 8, 8, 64)     0           batch_normalization_2[0][0]      \n",
      "__________________________________________________________________________________________________\n",
      "dropout_1 (Dropout)             (None, 8, 8, 64)     0           max_pooling2d_1[0][0]            \n",
      "__________________________________________________________________________________________________\n",
      "conv2d_3 (Conv2D)               (None, 8, 8, 128)    73856       dropout_1[0][0]                  \n",
      "__________________________________________________________________________________________________\n",
      "batch_normalization_3 (BatchNor (None, 8, 8, 128)    512         conv2d_3[0][0]                   \n",
      "__________________________________________________________________________________________________\n",
      "max_pooling2d_2 (MaxPooling2D)  (None, 4, 4, 128)    0           batch_normalization_3[0][0]      \n",
      "__________________________________________________________________________________________________\n",
      "dropout_2 (Dropout)             (None, 4, 4, 128)    0           max_pooling2d_2[0][0]            \n",
      "__________________________________________________________________________________________________\n",
      "flatten (Flatten)               (None, 2048)         0           dropout_2[0][0]                  \n",
      "__________________________________________________________________________________________________\n",
      "dense (Dense)                   (None, 512)          1049088     flatten[0][0]                    \n",
      "__________________________________________________________________________________________________\n",
      "dropout_3 (Dropout)             (None, 512)          0           dense[0][0]                      \n",
      "__________________________________________________________________________________________________\n",
      "dense_1 (Dense)                 (None, 11)           5643        dropout_3[0][0]                  \n",
      "__________________________________________________________________________________________________\n",
      "dense_2 (Dense)                 (None, 11)           5643        dropout_3[0][0]                  \n",
      "__________________________________________________________________________________________________\n",
      "dense_3 (Dense)                 (None, 11)           5643        dropout_3[0][0]                  \n",
      "__________________________________________________________________________________________________\n",
      "dense_4 (Dense)                 (None, 11)           5643        dropout_3[0][0]                  \n",
      "__________________________________________________________________________________________________\n",
      "dense_5 (Dense)                 (None, 11)           5643        dropout_3[0][0]                  \n",
      "==================================================================================================\n",
      "Total params: 1,180,119\n",
      "Trainable params: 1,179,671\n",
      "Non-trainable params: 448\n",
      "__________________________________________________________________________________________________\n"
     ]
    }
   ],
   "source": [
    "cnn_model.summary()"
   ]
  },
  {
   "cell_type": "markdown",
   "metadata": {},
   "source": [
    "### Fit the model to the training and validation datasets"
   ]
  },
  {
   "cell_type": "code",
   "execution_count": 19,
   "metadata": {},
   "outputs": [
    {
     "name": "stdout",
     "output_type": "stream",
     "text": [
      "Epoch 1/100\n",
      "204/204 - 56s - loss: 6.5147 - dense_1_loss: 0.0858 - dense_2_loss: 0.2933 - dense_3_loss: 1.1519 - dense_4_loss: 2.4191 - dense_5_loss: 2.5646 - dense_1_accuracy: 0.9937 - dense_2_accuracy: 0.9495 - dense_3_accuracy: 0.6919 - dense_4_accuracy: 0.2298 - dense_5_accuracy: 0.1393 - val_loss: 17.6376 - val_dense_1_loss: 0.0078 - val_dense_2_loss: 3.0400 - val_dense_3_loss: 5.2006 - val_dense_4_loss: 5.3607 - val_dense_5_loss: 4.0285 - val_dense_1_accuracy: 0.9995 - val_dense_2_accuracy: 0.0526 - val_dense_3_accuracy: 0.4932 - val_dense_4_accuracy: 0.1271 - val_dense_5_accuracy: 0.1027\n",
      "Epoch 2/100\n",
      "204/204 - 57s - loss: 4.3986 - dense_1_loss: 0.0092 - dense_2_loss: 0.1714 - dense_3_loss: 0.7716 - dense_4_loss: 1.6330 - dense_5_loss: 1.8134 - dense_1_accuracy: 0.9997 - dense_2_accuracy: 0.9554 - dense_3_accuracy: 0.7660 - dense_4_accuracy: 0.4443 - dense_5_accuracy: 0.3544 - val_loss: 10.5777 - val_dense_1_loss: 0.0076 - val_dense_2_loss: 0.9885 - val_dense_3_loss: 4.0126 - val_dense_4_loss: 2.8539 - val_dense_5_loss: 2.7150 - val_dense_1_accuracy: 0.9995 - val_dense_2_accuracy: 0.7314 - val_dense_3_accuracy: 0.4558 - val_dense_4_accuracy: 0.2406 - val_dense_5_accuracy: 0.2472\n",
      "Epoch 3/100\n",
      "204/204 - 58s - loss: 3.4180 - dense_1_loss: 0.0063 - dense_2_loss: 0.1479 - dense_3_loss: 0.6276 - dense_4_loss: 1.2786 - dense_5_loss: 1.3577 - dense_1_accuracy: 0.9997 - dense_2_accuracy: 0.9585 - dense_3_accuracy: 0.8055 - dense_4_accuracy: 0.5654 - dense_5_accuracy: 0.5238 - val_loss: 3.4090 - val_dense_1_loss: 0.0050 - val_dense_2_loss: 0.2411 - val_dense_3_loss: 0.9554 - val_dense_4_loss: 1.2040 - val_dense_5_loss: 1.0035 - val_dense_1_accuracy: 0.9995 - val_dense_2_accuracy: 0.9361 - val_dense_3_accuracy: 0.6945 - val_dense_4_accuracy: 0.5853 - val_dense_5_accuracy: 0.6807\n",
      "Epoch 4/100\n",
      "204/204 - 60s - loss: 2.9302 - dense_1_loss: 0.0061 - dense_2_loss: 0.1310 - dense_3_loss: 0.5558 - dense_4_loss: 1.0995 - dense_5_loss: 1.1379 - dense_1_accuracy: 0.9995 - dense_2_accuracy: 0.9621 - dense_3_accuracy: 0.8286 - dense_4_accuracy: 0.6303 - dense_5_accuracy: 0.6077 - val_loss: 2.6997 - val_dense_1_loss: 0.0050 - val_dense_2_loss: 0.1868 - val_dense_3_loss: 0.7673 - val_dense_4_loss: 0.9655 - val_dense_5_loss: 0.7750 - val_dense_1_accuracy: 0.9995 - val_dense_2_accuracy: 0.9495 - val_dense_3_accuracy: 0.7606 - val_dense_4_accuracy: 0.6706 - val_dense_5_accuracy: 0.7456\n",
      "Epoch 5/100\n",
      "204/204 - 62s - loss: 2.5952 - dense_1_loss: 0.0043 - dense_2_loss: 0.1158 - dense_3_loss: 0.5068 - dense_4_loss: 0.9625 - dense_5_loss: 1.0058 - dense_1_accuracy: 0.9996 - dense_2_accuracy: 0.9665 - dense_3_accuracy: 0.8415 - dense_4_accuracy: 0.6789 - dense_5_accuracy: 0.6547 - val_loss: 2.3301 - val_dense_1_loss: 0.0056 - val_dense_2_loss: 0.1620 - val_dense_3_loss: 0.6664 - val_dense_4_loss: 0.8089 - val_dense_5_loss: 0.6873 - val_dense_1_accuracy: 0.9995 - val_dense_2_accuracy: 0.9575 - val_dense_3_accuracy: 0.7870 - val_dense_4_accuracy: 0.7398 - val_dense_5_accuracy: 0.7802\n",
      "Epoch 6/100\n",
      "204/204 - 64s - loss: 2.3761 - dense_1_loss: 0.0048 - dense_2_loss: 0.1056 - dense_3_loss: 0.4677 - dense_4_loss: 0.8830 - dense_5_loss: 0.9149 - dense_1_accuracy: 0.9997 - dense_2_accuracy: 0.9692 - dense_3_accuracy: 0.8533 - dense_4_accuracy: 0.7083 - dense_5_accuracy: 0.6918 - val_loss: 2.0614 - val_dense_1_loss: 0.0058 - val_dense_2_loss: 0.1649 - val_dense_3_loss: 0.6111 - val_dense_4_loss: 0.6973 - val_dense_5_loss: 0.5823 - val_dense_1_accuracy: 0.9995 - val_dense_2_accuracy: 0.9550 - val_dense_3_accuracy: 0.8004 - val_dense_4_accuracy: 0.7765 - val_dense_5_accuracy: 0.8157\n",
      "Epoch 7/100\n",
      "204/204 - 65s - loss: 2.1762 - dense_1_loss: 0.0040 - dense_2_loss: 0.0986 - dense_3_loss: 0.4369 - dense_4_loss: 0.7971 - dense_5_loss: 0.8395 - dense_1_accuracy: 0.9995 - dense_2_accuracy: 0.9711 - dense_3_accuracy: 0.8629 - dense_4_accuracy: 0.7390 - dense_5_accuracy: 0.7175 - val_loss: 2.0240 - val_dense_1_loss: 0.0053 - val_dense_2_loss: 0.1758 - val_dense_3_loss: 0.5951 - val_dense_4_loss: 0.6576 - val_dense_5_loss: 0.5903 - val_dense_1_accuracy: 0.9995 - val_dense_2_accuracy: 0.9518 - val_dense_3_accuracy: 0.8113 - val_dense_4_accuracy: 0.7936 - val_dense_5_accuracy: 0.8148\n",
      "Epoch 8/100\n",
      "204/204 - 64s - loss: 2.0549 - dense_1_loss: 0.0037 - dense_2_loss: 0.0927 - dense_3_loss: 0.4179 - dense_4_loss: 0.7483 - dense_5_loss: 0.7923 - dense_1_accuracy: 0.9997 - dense_2_accuracy: 0.9735 - dense_3_accuracy: 0.8693 - dense_4_accuracy: 0.7549 - dense_5_accuracy: 0.7366 - val_loss: 1.7607 - val_dense_1_loss: 0.0042 - val_dense_2_loss: 0.1347 - val_dense_3_loss: 0.5270 - val_dense_4_loss: 0.5754 - val_dense_5_loss: 0.5193 - val_dense_1_accuracy: 0.9995 - val_dense_2_accuracy: 0.9633 - val_dense_3_accuracy: 0.8380 - val_dense_4_accuracy: 0.8228 - val_dense_5_accuracy: 0.8424\n",
      "Epoch 9/100\n",
      "204/204 - 64s - loss: 1.9258 - dense_1_loss: 0.0028 - dense_2_loss: 0.0902 - dense_3_loss: 0.3954 - dense_4_loss: 0.6931 - dense_5_loss: 0.7444 - dense_1_accuracy: 0.9997 - dense_2_accuracy: 0.9731 - dense_3_accuracy: 0.8758 - dense_4_accuracy: 0.7739 - dense_5_accuracy: 0.7516 - val_loss: 1.7012 - val_dense_1_loss: 0.0043 - val_dense_2_loss: 0.1238 - val_dense_3_loss: 0.5173 - val_dense_4_loss: 0.5572 - val_dense_5_loss: 0.4987 - val_dense_1_accuracy: 0.9995 - val_dense_2_accuracy: 0.9656 - val_dense_3_accuracy: 0.8412 - val_dense_4_accuracy: 0.8246 - val_dense_5_accuracy: 0.8413\n",
      "Epoch 10/100\n",
      "204/204 - 64s - loss: 1.8066 - dense_1_loss: 0.0026 - dense_2_loss: 0.0806 - dense_3_loss: 0.3709 - dense_4_loss: 0.6607 - dense_5_loss: 0.6918 - dense_1_accuracy: 0.9996 - dense_2_accuracy: 0.9752 - dense_3_accuracy: 0.8833 - dense_4_accuracy: 0.7857 - dense_5_accuracy: 0.7719 - val_loss: 1.4905 - val_dense_1_loss: 0.0066 - val_dense_2_loss: 0.1486 - val_dense_3_loss: 0.4410 - val_dense_4_loss: 0.4789 - val_dense_5_loss: 0.4153 - val_dense_1_accuracy: 0.9995 - val_dense_2_accuracy: 0.9619 - val_dense_3_accuracy: 0.8655 - val_dense_4_accuracy: 0.8508 - val_dense_5_accuracy: 0.8678\n",
      "Epoch 11/100\n",
      "204/204 - 64s - loss: 1.7274 - dense_1_loss: 0.0027 - dense_2_loss: 0.0760 - dense_3_loss: 0.3581 - dense_4_loss: 0.6289 - dense_5_loss: 0.6618 - dense_1_accuracy: 0.9997 - dense_2_accuracy: 0.9779 - dense_3_accuracy: 0.8864 - dense_4_accuracy: 0.7960 - dense_5_accuracy: 0.7805 - val_loss: 1.4566 - val_dense_1_loss: 0.0051 - val_dense_2_loss: 0.1273 - val_dense_3_loss: 0.4616 - val_dense_4_loss: 0.4555 - val_dense_5_loss: 0.4071 - val_dense_1_accuracy: 0.9995 - val_dense_2_accuracy: 0.9652 - val_dense_3_accuracy: 0.8548 - val_dense_4_accuracy: 0.8575 - val_dense_5_accuracy: 0.8699\n",
      "Epoch 12/100\n",
      "204/204 - 64s - loss: 1.6314 - dense_1_loss: 0.0024 - dense_2_loss: 0.0696 - dense_3_loss: 0.3389 - dense_4_loss: 0.5968 - dense_5_loss: 0.6238 - dense_1_accuracy: 0.9997 - dense_2_accuracy: 0.9792 - dense_3_accuracy: 0.8926 - dense_4_accuracy: 0.8042 - dense_5_accuracy: 0.7965 - val_loss: 1.3889 - val_dense_1_loss: 0.0050 - val_dense_2_loss: 0.1436 - val_dense_3_loss: 0.4338 - val_dense_4_loss: 0.4272 - val_dense_5_loss: 0.3793 - val_dense_1_accuracy: 0.9995 - val_dense_2_accuracy: 0.9592 - val_dense_3_accuracy: 0.8648 - val_dense_4_accuracy: 0.8710 - val_dense_5_accuracy: 0.8774\n",
      "Epoch 13/100\n",
      "204/204 - 65s - loss: 1.5760 - dense_1_loss: 0.0020 - dense_2_loss: 0.0699 - dense_3_loss: 0.3273 - dense_4_loss: 0.5668 - dense_5_loss: 0.6101 - dense_1_accuracy: 0.9997 - dense_2_accuracy: 0.9782 - dense_3_accuracy: 0.8959 - dense_4_accuracy: 0.8177 - dense_5_accuracy: 0.7985 - val_loss: 1.2817 - val_dense_1_loss: 0.0058 - val_dense_2_loss: 0.1067 - val_dense_3_loss: 0.3927 - val_dense_4_loss: 0.3983 - val_dense_5_loss: 0.3782 - val_dense_1_accuracy: 0.9995 - val_dense_2_accuracy: 0.9722 - val_dense_3_accuracy: 0.8812 - val_dense_4_accuracy: 0.8796 - val_dense_5_accuracy: 0.8768\n",
      "Epoch 14/100\n",
      "204/204 - 64s - loss: 1.5022 - dense_1_loss: 0.0022 - dense_2_loss: 0.0634 - dense_3_loss: 0.3082 - dense_4_loss: 0.5460 - dense_5_loss: 0.5823 - dense_1_accuracy: 0.9997 - dense_2_accuracy: 0.9807 - dense_3_accuracy: 0.9007 - dense_4_accuracy: 0.8203 - dense_5_accuracy: 0.8102 - val_loss: 1.2189 - val_dense_1_loss: 0.0052 - val_dense_2_loss: 0.1086 - val_dense_3_loss: 0.3916 - val_dense_4_loss: 0.3713 - val_dense_5_loss: 0.3422 - val_dense_1_accuracy: 0.9995 - val_dense_2_accuracy: 0.9718 - val_dense_3_accuracy: 0.8808 - val_dense_4_accuracy: 0.8873 - val_dense_5_accuracy: 0.8909\n"
     ]
    },
    {
     "name": "stdout",
     "output_type": "stream",
     "text": [
      "Epoch 15/100\n",
      "204/204 - 64s - loss: 1.4552 - dense_1_loss: 0.0017 - dense_2_loss: 0.0629 - dense_3_loss: 0.2991 - dense_4_loss: 0.5235 - dense_5_loss: 0.5681 - dense_1_accuracy: 0.9997 - dense_2_accuracy: 0.9803 - dense_3_accuracy: 0.9052 - dense_4_accuracy: 0.8285 - dense_5_accuracy: 0.8128 - val_loss: 1.2382 - val_dense_1_loss: 0.0059 - val_dense_2_loss: 0.1096 - val_dense_3_loss: 0.3722 - val_dense_4_loss: 0.3936 - val_dense_5_loss: 0.3569 - val_dense_1_accuracy: 0.9995 - val_dense_2_accuracy: 0.9719 - val_dense_3_accuracy: 0.8845 - val_dense_4_accuracy: 0.8810 - val_dense_5_accuracy: 0.8869\n",
      "Epoch 16/100\n",
      "204/204 - 64s - loss: 1.4133 - dense_1_loss: 0.0016 - dense_2_loss: 0.0588 - dense_3_loss: 0.2899 - dense_4_loss: 0.5125 - dense_5_loss: 0.5506 - dense_1_accuracy: 0.9997 - dense_2_accuracy: 0.9823 - dense_3_accuracy: 0.9094 - dense_4_accuracy: 0.8345 - dense_5_accuracy: 0.8173 - val_loss: 1.1096 - val_dense_1_loss: 0.0040 - val_dense_2_loss: 0.0926 - val_dense_3_loss: 0.3403 - val_dense_4_loss: 0.3433 - val_dense_5_loss: 0.3294 - val_dense_1_accuracy: 0.9995 - val_dense_2_accuracy: 0.9752 - val_dense_3_accuracy: 0.8951 - val_dense_4_accuracy: 0.8981 - val_dense_5_accuracy: 0.8951\n",
      "Epoch 17/100\n",
      "204/204 - 65s - loss: 1.3522 - dense_1_loss: 0.0018 - dense_2_loss: 0.0556 - dense_3_loss: 0.2749 - dense_4_loss: 0.4881 - dense_5_loss: 0.5318 - dense_1_accuracy: 0.9997 - dense_2_accuracy: 0.9828 - dense_3_accuracy: 0.9109 - dense_4_accuracy: 0.8400 - dense_5_accuracy: 0.8249 - val_loss: 1.0667 - val_dense_1_loss: 0.0048 - val_dense_2_loss: 0.0900 - val_dense_3_loss: 0.3344 - val_dense_4_loss: 0.3307 - val_dense_5_loss: 0.3068 - val_dense_1_accuracy: 0.9995 - val_dense_2_accuracy: 0.9757 - val_dense_3_accuracy: 0.9017 - val_dense_4_accuracy: 0.9046 - val_dense_5_accuracy: 0.9037\n",
      "Epoch 18/100\n",
      "204/204 - 65s - loss: 1.3161 - dense_1_loss: 0.0024 - dense_2_loss: 0.0552 - dense_3_loss: 0.2715 - dense_4_loss: 0.4790 - dense_5_loss: 0.5079 - dense_1_accuracy: 0.9997 - dense_2_accuracy: 0.9831 - dense_3_accuracy: 0.9129 - dense_4_accuracy: 0.8466 - dense_5_accuracy: 0.8337 - val_loss: 1.0955 - val_dense_1_loss: 0.0059 - val_dense_2_loss: 0.1032 - val_dense_3_loss: 0.3377 - val_dense_4_loss: 0.3381 - val_dense_5_loss: 0.3106 - val_dense_1_accuracy: 0.9995 - val_dense_2_accuracy: 0.9737 - val_dense_3_accuracy: 0.8975 - val_dense_4_accuracy: 0.8996 - val_dense_5_accuracy: 0.9007\n",
      "Epoch 19/100\n",
      "204/204 - 64s - loss: 1.2802 - dense_1_loss: 0.0015 - dense_2_loss: 0.0537 - dense_3_loss: 0.2619 - dense_4_loss: 0.4669 - dense_5_loss: 0.4962 - dense_1_accuracy: 0.9997 - dense_2_accuracy: 0.9830 - dense_3_accuracy: 0.9158 - dense_4_accuracy: 0.8480 - dense_5_accuracy: 0.8366 - val_loss: 1.0622 - val_dense_1_loss: 0.0059 - val_dense_2_loss: 0.0912 - val_dense_3_loss: 0.3397 - val_dense_4_loss: 0.3310 - val_dense_5_loss: 0.2943 - val_dense_1_accuracy: 0.9995 - val_dense_2_accuracy: 0.9755 - val_dense_3_accuracy: 0.9008 - val_dense_4_accuracy: 0.9025 - val_dense_5_accuracy: 0.9070\n",
      "Epoch 20/100\n",
      "204/204 - 64s - loss: 1.2282 - dense_1_loss: 0.0017 - dense_2_loss: 0.0502 - dense_3_loss: 0.2539 - dense_4_loss: 0.4426 - dense_5_loss: 0.4797 - dense_1_accuracy: 0.9996 - dense_2_accuracy: 0.9847 - dense_3_accuracy: 0.9177 - dense_4_accuracy: 0.8537 - dense_5_accuracy: 0.8409 - val_loss: 1.0832 - val_dense_1_loss: 0.0081 - val_dense_2_loss: 0.1111 - val_dense_3_loss: 0.3256 - val_dense_4_loss: 0.3349 - val_dense_5_loss: 0.3035 - val_dense_1_accuracy: 0.9995 - val_dense_2_accuracy: 0.9752 - val_dense_3_accuracy: 0.9051 - val_dense_4_accuracy: 0.9008 - val_dense_5_accuracy: 0.9051\n",
      "Epoch 21/100\n",
      "204/204 - 64s - loss: 1.2079 - dense_1_loss: 0.0011 - dense_2_loss: 0.0470 - dense_3_loss: 0.2454 - dense_4_loss: 0.4368 - dense_5_loss: 0.4776 - dense_1_accuracy: 0.9998 - dense_2_accuracy: 0.9855 - dense_3_accuracy: 0.9203 - dense_4_accuracy: 0.8577 - dense_5_accuracy: 0.8428 - val_loss: 1.0125 - val_dense_1_loss: 0.0057 - val_dense_2_loss: 0.0875 - val_dense_3_loss: 0.3216 - val_dense_4_loss: 0.3097 - val_dense_5_loss: 0.2881 - val_dense_1_accuracy: 0.9995 - val_dense_2_accuracy: 0.9759 - val_dense_3_accuracy: 0.9040 - val_dense_4_accuracy: 0.9118 - val_dense_5_accuracy: 0.9091\n",
      "Epoch 22/100\n",
      "204/204 - 65s - loss: 1.1644 - dense_1_loss: 0.0016 - dense_2_loss: 0.0468 - dense_3_loss: 0.2423 - dense_4_loss: 0.4144 - dense_5_loss: 0.4593 - dense_1_accuracy: 0.9997 - dense_2_accuracy: 0.9856 - dense_3_accuracy: 0.9220 - dense_4_accuracy: 0.8656 - dense_5_accuracy: 0.8490 - val_loss: 1.0286 - val_dense_1_loss: 0.0059 - val_dense_2_loss: 0.0931 - val_dense_3_loss: 0.3141 - val_dense_4_loss: 0.3224 - val_dense_5_loss: 0.2932 - val_dense_1_accuracy: 0.9995 - val_dense_2_accuracy: 0.9748 - val_dense_3_accuracy: 0.9057 - val_dense_4_accuracy: 0.9055 - val_dense_5_accuracy: 0.9088\n",
      "Epoch 23/100\n",
      "204/204 - 64s - loss: 1.1477 - dense_1_loss: 0.0017 - dense_2_loss: 0.0435 - dense_3_loss: 0.2364 - dense_4_loss: 0.4135 - dense_5_loss: 0.4527 - dense_1_accuracy: 0.9997 - dense_2_accuracy: 0.9860 - dense_3_accuracy: 0.9243 - dense_4_accuracy: 0.8656 - dense_5_accuracy: 0.8506 - val_loss: 1.0715 - val_dense_1_loss: 0.0069 - val_dense_2_loss: 0.1111 - val_dense_3_loss: 0.3349 - val_dense_4_loss: 0.3285 - val_dense_5_loss: 0.2902 - val_dense_1_accuracy: 0.9995 - val_dense_2_accuracy: 0.9723 - val_dense_3_accuracy: 0.8994 - val_dense_4_accuracy: 0.9038 - val_dense_5_accuracy: 0.9092\n",
      "Epoch 24/100\n",
      "204/204 - 64s - loss: 1.1150 - dense_1_loss: 0.0013 - dense_2_loss: 0.0452 - dense_3_loss: 0.2276 - dense_4_loss: 0.3958 - dense_5_loss: 0.4452 - dense_1_accuracy: 0.9998 - dense_2_accuracy: 0.9859 - dense_3_accuracy: 0.9269 - dense_4_accuracy: 0.8705 - dense_5_accuracy: 0.8546 - val_loss: 0.9910 - val_dense_1_loss: 0.0069 - val_dense_2_loss: 0.0889 - val_dense_3_loss: 0.3070 - val_dense_4_loss: 0.3089 - val_dense_5_loss: 0.2794 - val_dense_1_accuracy: 0.9995 - val_dense_2_accuracy: 0.9778 - val_dense_3_accuracy: 0.9088 - val_dense_4_accuracy: 0.9103 - val_dense_5_accuracy: 0.9127\n",
      "Epoch 25/100\n",
      "204/204 - 64s - loss: 1.0897 - dense_1_loss: 0.0014 - dense_2_loss: 0.0425 - dense_3_loss: 0.2188 - dense_4_loss: 0.3966 - dense_5_loss: 0.4304 - dense_1_accuracy: 0.9997 - dense_2_accuracy: 0.9873 - dense_3_accuracy: 0.9288 - dense_4_accuracy: 0.8714 - dense_5_accuracy: 0.8582 - val_loss: 1.0164 - val_dense_1_loss: 0.0059 - val_dense_2_loss: 0.1050 - val_dense_3_loss: 0.3220 - val_dense_4_loss: 0.3096 - val_dense_5_loss: 0.2740 - val_dense_1_accuracy: 0.9995 - val_dense_2_accuracy: 0.9716 - val_dense_3_accuracy: 0.9058 - val_dense_4_accuracy: 0.9121 - val_dense_5_accuracy: 0.9162\n",
      "Epoch 26/100\n",
      "204/204 - 65s - loss: 1.0554 - dense_1_loss: 4.4775e-04 - dense_2_loss: 0.0399 - dense_3_loss: 0.2165 - dense_4_loss: 0.3772 - dense_5_loss: 0.4214 - dense_1_accuracy: 1.0000 - dense_2_accuracy: 0.9878 - dense_3_accuracy: 0.9297 - dense_4_accuracy: 0.8757 - dense_5_accuracy: 0.8606 - val_loss: 1.0088 - val_dense_1_loss: 0.0072 - val_dense_2_loss: 0.1103 - val_dense_3_loss: 0.3083 - val_dense_4_loss: 0.3127 - val_dense_5_loss: 0.2703 - val_dense_1_accuracy: 0.9995 - val_dense_2_accuracy: 0.9745 - val_dense_3_accuracy: 0.9153 - val_dense_4_accuracy: 0.9096 - val_dense_5_accuracy: 0.9182\n",
      "Epoch 27/100\n",
      "204/204 - 65s - loss: 1.0422 - dense_1_loss: 7.5316e-04 - dense_2_loss: 0.0405 - dense_3_loss: 0.2101 - dense_4_loss: 0.3771 - dense_5_loss: 0.4137 - dense_1_accuracy: 0.9998 - dense_2_accuracy: 0.9867 - dense_3_accuracy: 0.9310 - dense_4_accuracy: 0.8759 - dense_5_accuracy: 0.8647 - val_loss: 1.0080 - val_dense_1_loss: 0.0052 - val_dense_2_loss: 0.0887 - val_dense_3_loss: 0.3029 - val_dense_4_loss: 0.3190 - val_dense_5_loss: 0.2921 - val_dense_1_accuracy: 0.9995 - val_dense_2_accuracy: 0.9764 - val_dense_3_accuracy: 0.9112 - val_dense_4_accuracy: 0.9065 - val_dense_5_accuracy: 0.9062\n",
      "Epoch 28/100\n",
      "204/204 - 65s - loss: 1.0189 - dense_1_loss: 8.3922e-04 - dense_2_loss: 0.0414 - dense_3_loss: 0.2041 - dense_4_loss: 0.3633 - dense_5_loss: 0.4092 - dense_1_accuracy: 0.9997 - dense_2_accuracy: 0.9866 - dense_3_accuracy: 0.9330 - dense_4_accuracy: 0.8798 - dense_5_accuracy: 0.8656 - val_loss: 0.9904 - val_dense_1_loss: 0.0074 - val_dense_2_loss: 0.0940 - val_dense_3_loss: 0.3134 - val_dense_4_loss: 0.2942 - val_dense_5_loss: 0.2814 - val_dense_1_accuracy: 0.9995 - val_dense_2_accuracy: 0.9777 - val_dense_3_accuracy: 0.9119 - val_dense_4_accuracy: 0.9158 - val_dense_5_accuracy: 0.9148\n"
     ]
    },
    {
     "name": "stdout",
     "output_type": "stream",
     "text": [
      "Epoch 29/100\n",
      "204/204 - 64s - loss: 0.9892 - dense_1_loss: 5.7019e-04 - dense_2_loss: 0.0351 - dense_3_loss: 0.1948 - dense_4_loss: 0.3603 - dense_5_loss: 0.3983 - dense_1_accuracy: 0.9999 - dense_2_accuracy: 0.9881 - dense_3_accuracy: 0.9354 - dense_4_accuracy: 0.8818 - dense_5_accuracy: 0.8666 - val_loss: 0.9562 - val_dense_1_loss: 0.0061 - val_dense_2_loss: 0.0979 - val_dense_3_loss: 0.2978 - val_dense_4_loss: 0.2862 - val_dense_5_loss: 0.2682 - val_dense_1_accuracy: 0.9995 - val_dense_2_accuracy: 0.9762 - val_dense_3_accuracy: 0.9152 - val_dense_4_accuracy: 0.9179 - val_dense_5_accuracy: 0.9180\n",
      "Epoch 30/100\n",
      "204/204 - 65s - loss: 0.9825 - dense_1_loss: 7.6896e-04 - dense_2_loss: 0.0390 - dense_3_loss: 0.2000 - dense_4_loss: 0.3469 - dense_5_loss: 0.3959 - dense_1_accuracy: 0.9999 - dense_2_accuracy: 0.9877 - dense_3_accuracy: 0.9345 - dense_4_accuracy: 0.8883 - dense_5_accuracy: 0.8691 - val_loss: 0.9912 - val_dense_1_loss: 0.0074 - val_dense_2_loss: 0.0977 - val_dense_3_loss: 0.3090 - val_dense_4_loss: 0.2932 - val_dense_5_loss: 0.2839 - val_dense_1_accuracy: 0.9995 - val_dense_2_accuracy: 0.9762 - val_dense_3_accuracy: 0.9088 - val_dense_4_accuracy: 0.9170 - val_dense_5_accuracy: 0.9113\n",
      "Epoch 31/100\n",
      "204/204 - 65s - loss: 0.9612 - dense_1_loss: 0.0011 - dense_2_loss: 0.0387 - dense_3_loss: 0.1936 - dense_4_loss: 0.3473 - dense_5_loss: 0.3806 - dense_1_accuracy: 0.9998 - dense_2_accuracy: 0.9876 - dense_3_accuracy: 0.9355 - dense_4_accuracy: 0.8862 - dense_5_accuracy: 0.8742 - val_loss: 0.9539 - val_dense_1_loss: 0.0057 - val_dense_2_loss: 0.0940 - val_dense_3_loss: 0.2891 - val_dense_4_loss: 0.2931 - val_dense_5_loss: 0.2720 - val_dense_1_accuracy: 0.9995 - val_dense_2_accuracy: 0.9755 - val_dense_3_accuracy: 0.9158 - val_dense_4_accuracy: 0.9167 - val_dense_5_accuracy: 0.9149\n",
      "Epoch 32/100\n",
      "204/204 - 64s - loss: 0.9512 - dense_1_loss: 7.3694e-04 - dense_2_loss: 0.0355 - dense_3_loss: 0.1904 - dense_4_loss: 0.3423 - dense_5_loss: 0.3823 - dense_1_accuracy: 0.9998 - dense_2_accuracy: 0.9882 - dense_3_accuracy: 0.9387 - dense_4_accuracy: 0.8889 - dense_5_accuracy: 0.8734 - val_loss: 0.9131 - val_dense_1_loss: 0.0062 - val_dense_2_loss: 0.0918 - val_dense_3_loss: 0.2780 - val_dense_4_loss: 0.2844 - val_dense_5_loss: 0.2527 - val_dense_1_accuracy: 0.9995 - val_dense_2_accuracy: 0.9781 - val_dense_3_accuracy: 0.9231 - val_dense_4_accuracy: 0.9197 - val_dense_5_accuracy: 0.9243\n",
      "Epoch 33/100\n",
      "204/204 - 65s - loss: 0.9341 - dense_1_loss: 8.1009e-04 - dense_2_loss: 0.0334 - dense_3_loss: 0.1909 - dense_4_loss: 0.3360 - dense_5_loss: 0.3730 - dense_1_accuracy: 0.9998 - dense_2_accuracy: 0.9895 - dense_3_accuracy: 0.9377 - dense_4_accuracy: 0.8896 - dense_5_accuracy: 0.8764 - val_loss: 0.9193 - val_dense_1_loss: 0.0065 - val_dense_2_loss: 0.0839 - val_dense_3_loss: 0.2818 - val_dense_4_loss: 0.2875 - val_dense_5_loss: 0.2596 - val_dense_1_accuracy: 0.9995 - val_dense_2_accuracy: 0.9805 - val_dense_3_accuracy: 0.9209 - val_dense_4_accuracy: 0.9195 - val_dense_5_accuracy: 0.9213\n",
      "Epoch 34/100\n",
      "204/204 - 64s - loss: 0.9161 - dense_1_loss: 6.9434e-04 - dense_2_loss: 0.0331 - dense_3_loss: 0.1796 - dense_4_loss: 0.3336 - dense_5_loss: 0.3690 - dense_1_accuracy: 0.9998 - dense_2_accuracy: 0.9893 - dense_3_accuracy: 0.9400 - dense_4_accuracy: 0.8911 - dense_5_accuracy: 0.8772 - val_loss: 0.8824 - val_dense_1_loss: 0.0064 - val_dense_2_loss: 0.0886 - val_dense_3_loss: 0.2642 - val_dense_4_loss: 0.2790 - val_dense_5_loss: 0.2442 - val_dense_1_accuracy: 0.9995 - val_dense_2_accuracy: 0.9795 - val_dense_3_accuracy: 0.9252 - val_dense_4_accuracy: 0.9222 - val_dense_5_accuracy: 0.9255\n",
      "Epoch 35/100\n",
      "204/204 - 64s - loss: 0.8949 - dense_1_loss: 4.0375e-04 - dense_2_loss: 0.0331 - dense_3_loss: 0.1795 - dense_4_loss: 0.3217 - dense_5_loss: 0.3602 - dense_1_accuracy: 0.9999 - dense_2_accuracy: 0.9897 - dense_3_accuracy: 0.9410 - dense_4_accuracy: 0.8946 - dense_5_accuracy: 0.8814 - val_loss: 0.9439 - val_dense_1_loss: 0.0079 - val_dense_2_loss: 0.1037 - val_dense_3_loss: 0.2909 - val_dense_4_loss: 0.2889 - val_dense_5_loss: 0.2525 - val_dense_1_accuracy: 0.9995 - val_dense_2_accuracy: 0.9753 - val_dense_3_accuracy: 0.9168 - val_dense_4_accuracy: 0.9184 - val_dense_5_accuracy: 0.9224\n",
      "Epoch 36/100\n",
      "204/204 - 65s - loss: 0.8806 - dense_1_loss: 6.4429e-04 - dense_2_loss: 0.0324 - dense_3_loss: 0.1708 - dense_4_loss: 0.3254 - dense_5_loss: 0.3513 - dense_1_accuracy: 0.9998 - dense_2_accuracy: 0.9895 - dense_3_accuracy: 0.9426 - dense_4_accuracy: 0.8912 - dense_5_accuracy: 0.8818 - val_loss: 0.9137 - val_dense_1_loss: 0.0079 - val_dense_2_loss: 0.0926 - val_dense_3_loss: 0.2767 - val_dense_4_loss: 0.2781 - val_dense_5_loss: 0.2584 - val_dense_1_accuracy: 0.9995 - val_dense_2_accuracy: 0.9797 - val_dense_3_accuracy: 0.9213 - val_dense_4_accuracy: 0.9227 - val_dense_5_accuracy: 0.9229\n",
      "Epoch 37/100\n",
      "204/204 - 64s - loss: 0.8712 - dense_1_loss: 5.4471e-04 - dense_2_loss: 0.0326 - dense_3_loss: 0.1755 - dense_4_loss: 0.3092 - dense_5_loss: 0.3533 - dense_1_accuracy: 0.9998 - dense_2_accuracy: 0.9891 - dense_3_accuracy: 0.9419 - dense_4_accuracy: 0.8988 - dense_5_accuracy: 0.8825 - val_loss: 0.8790 - val_dense_1_loss: 0.0067 - val_dense_2_loss: 0.0853 - val_dense_3_loss: 0.2686 - val_dense_4_loss: 0.2713 - val_dense_5_loss: 0.2471 - val_dense_1_accuracy: 0.9995 - val_dense_2_accuracy: 0.9785 - val_dense_3_accuracy: 0.9222 - val_dense_4_accuracy: 0.9228 - val_dense_5_accuracy: 0.9255\n",
      "Epoch 38/100\n",
      "204/204 - 63s - loss: 0.8496 - dense_1_loss: 9.5499e-04 - dense_2_loss: 0.0310 - dense_3_loss: 0.1669 - dense_4_loss: 0.3122 - dense_5_loss: 0.3385 - dense_1_accuracy: 0.9997 - dense_2_accuracy: 0.9901 - dense_3_accuracy: 0.9452 - dense_4_accuracy: 0.8986 - dense_5_accuracy: 0.8877 - val_loss: 0.9043 - val_dense_1_loss: 0.0074 - val_dense_2_loss: 0.0885 - val_dense_3_loss: 0.2702 - val_dense_4_loss: 0.2741 - val_dense_5_loss: 0.2641 - val_dense_1_accuracy: 0.9995 - val_dense_2_accuracy: 0.9816 - val_dense_3_accuracy: 0.9267 - val_dense_4_accuracy: 0.9237 - val_dense_5_accuracy: 0.9227\n",
      "Epoch 39/100\n",
      "204/204 - 64s - loss: 0.8450 - dense_1_loss: 6.6162e-04 - dense_2_loss: 0.0294 - dense_3_loss: 0.1673 - dense_4_loss: 0.3074 - dense_5_loss: 0.3402 - dense_1_accuracy: 0.9998 - dense_2_accuracy: 0.9904 - dense_3_accuracy: 0.9463 - dense_4_accuracy: 0.8985 - dense_5_accuracy: 0.8872 - val_loss: 0.8842 - val_dense_1_loss: 0.0067 - val_dense_2_loss: 0.0830 - val_dense_3_loss: 0.2666 - val_dense_4_loss: 0.2740 - val_dense_5_loss: 0.2539 - val_dense_1_accuracy: 0.9995 - val_dense_2_accuracy: 0.9798 - val_dense_3_accuracy: 0.9242 - val_dense_4_accuracy: 0.9235 - val_dense_5_accuracy: 0.9217\n",
      "Epoch 40/100\n",
      "204/204 - 63s - loss: 0.8247 - dense_1_loss: 5.1434e-04 - dense_2_loss: 0.0305 - dense_3_loss: 0.1572 - dense_4_loss: 0.2974 - dense_5_loss: 0.3391 - dense_1_accuracy: 0.9998 - dense_2_accuracy: 0.9899 - dense_3_accuracy: 0.9467 - dense_4_accuracy: 0.9013 - dense_5_accuracy: 0.8882 - val_loss: 0.8944 - val_dense_1_loss: 0.0077 - val_dense_2_loss: 0.0919 - val_dense_3_loss: 0.2742 - val_dense_4_loss: 0.2773 - val_dense_5_loss: 0.2433 - val_dense_1_accuracy: 0.9995 - val_dense_2_accuracy: 0.9790 - val_dense_3_accuracy: 0.9256 - val_dense_4_accuracy: 0.9239 - val_dense_5_accuracy: 0.9268\n",
      "Epoch 41/100\n",
      "204/204 - 65s - loss: 0.8304 - dense_1_loss: 5.2476e-04 - dense_2_loss: 0.0285 - dense_3_loss: 0.1616 - dense_4_loss: 0.3061 - dense_5_loss: 0.3337 - dense_1_accuracy: 0.9999 - dense_2_accuracy: 0.9903 - dense_3_accuracy: 0.9460 - dense_4_accuracy: 0.9007 - dense_5_accuracy: 0.8891 - val_loss: 0.8867 - val_dense_1_loss: 0.0070 - val_dense_2_loss: 0.0825 - val_dense_3_loss: 0.2660 - val_dense_4_loss: 0.2722 - val_dense_5_loss: 0.2589 - val_dense_1_accuracy: 0.9995 - val_dense_2_accuracy: 0.9812 - val_dense_3_accuracy: 0.9240 - val_dense_4_accuracy: 0.9241 - val_dense_5_accuracy: 0.9201\n",
      "Epoch 42/100\n",
      "204/204 - 63s - loss: 0.8157 - dense_1_loss: 4.0394e-04 - dense_2_loss: 0.0271 - dense_3_loss: 0.1617 - dense_4_loss: 0.2953 - dense_5_loss: 0.3312 - dense_1_accuracy: 0.9999 - dense_2_accuracy: 0.9914 - dense_3_accuracy: 0.9453 - dense_4_accuracy: 0.9033 - dense_5_accuracy: 0.8890 - val_loss: 0.8706 - val_dense_1_loss: 0.0076 - val_dense_2_loss: 0.0848 - val_dense_3_loss: 0.2640 - val_dense_4_loss: 0.2695 - val_dense_5_loss: 0.2448 - val_dense_1_accuracy: 0.9995 - val_dense_2_accuracy: 0.9812 - val_dense_3_accuracy: 0.9282 - val_dense_4_accuracy: 0.9268 - val_dense_5_accuracy: 0.9269\n"
     ]
    },
    {
     "name": "stdout",
     "output_type": "stream",
     "text": [
      "Epoch 43/100\n",
      "204/204 - 64s - loss: 0.8079 - dense_1_loss: 2.6591e-04 - dense_2_loss: 0.0302 - dense_3_loss: 0.1592 - dense_4_loss: 0.2880 - dense_5_loss: 0.3302 - dense_1_accuracy: 0.9999 - dense_2_accuracy: 0.9908 - dense_3_accuracy: 0.9475 - dense_4_accuracy: 0.9083 - dense_5_accuracy: 0.8893 - val_loss: 0.8940 - val_dense_1_loss: 0.0085 - val_dense_2_loss: 0.0921 - val_dense_3_loss: 0.2716 - val_dense_4_loss: 0.2688 - val_dense_5_loss: 0.2531 - val_dense_1_accuracy: 0.9995 - val_dense_2_accuracy: 0.9799 - val_dense_3_accuracy: 0.9269 - val_dense_4_accuracy: 0.9269 - val_dense_5_accuracy: 0.9248\n",
      "Epoch 44/100\n",
      "204/204 - 64s - loss: 0.7920 - dense_1_loss: 4.2549e-04 - dense_2_loss: 0.0299 - dense_3_loss: 0.1545 - dense_4_loss: 0.2876 - dense_5_loss: 0.3196 - dense_1_accuracy: 0.9998 - dense_2_accuracy: 0.9902 - dense_3_accuracy: 0.9481 - dense_4_accuracy: 0.9052 - dense_5_accuracy: 0.8931 - val_loss: 0.9260 - val_dense_1_loss: 0.0099 - val_dense_2_loss: 0.0946 - val_dense_3_loss: 0.2831 - val_dense_4_loss: 0.2891 - val_dense_5_loss: 0.2494 - val_dense_1_accuracy: 0.9995 - val_dense_2_accuracy: 0.9810 - val_dense_3_accuracy: 0.9264 - val_dense_4_accuracy: 0.9260 - val_dense_5_accuracy: 0.9264\n",
      "Epoch 45/100\n",
      "204/204 - 63s - loss: 0.7763 - dense_1_loss: 3.5299e-04 - dense_2_loss: 0.0290 - dense_3_loss: 0.1536 - dense_4_loss: 0.2805 - dense_5_loss: 0.3128 - dense_1_accuracy: 0.9999 - dense_2_accuracy: 0.9900 - dense_3_accuracy: 0.9505 - dense_4_accuracy: 0.9062 - dense_5_accuracy: 0.8960 - val_loss: 0.8616 - val_dense_1_loss: 0.0076 - val_dense_2_loss: 0.0869 - val_dense_3_loss: 0.2595 - val_dense_4_loss: 0.2627 - val_dense_5_loss: 0.2449 - val_dense_1_accuracy: 0.9995 - val_dense_2_accuracy: 0.9789 - val_dense_3_accuracy: 0.9283 - val_dense_4_accuracy: 0.9285 - val_dense_5_accuracy: 0.9248\n",
      "Epoch 46/100\n",
      "204/204 - 65s - loss: 0.7721 - dense_1_loss: 5.4803e-04 - dense_2_loss: 0.0242 - dense_3_loss: 0.1457 - dense_4_loss: 0.2842 - dense_5_loss: 0.3174 - dense_1_accuracy: 0.9998 - dense_2_accuracy: 0.9920 - dense_3_accuracy: 0.9503 - dense_4_accuracy: 0.9052 - dense_5_accuracy: 0.8952 - val_loss: 0.8941 - val_dense_1_loss: 0.0084 - val_dense_2_loss: 0.1012 - val_dense_3_loss: 0.2697 - val_dense_4_loss: 0.2699 - val_dense_5_loss: 0.2449 - val_dense_1_accuracy: 0.9995 - val_dense_2_accuracy: 0.9770 - val_dense_3_accuracy: 0.9248 - val_dense_4_accuracy: 0.9268 - val_dense_5_accuracy: 0.9251\n",
      "Epoch 47/100\n",
      "204/204 - 62s - loss: 0.7529 - dense_1_loss: 7.3572e-04 - dense_2_loss: 0.0292 - dense_3_loss: 0.1457 - dense_4_loss: 0.2722 - dense_5_loss: 0.3051 - dense_1_accuracy: 0.9998 - dense_2_accuracy: 0.9910 - dense_3_accuracy: 0.9508 - dense_4_accuracy: 0.9103 - dense_5_accuracy: 0.8972 - val_loss: 0.8880 - val_dense_1_loss: 0.0080 - val_dense_2_loss: 0.0884 - val_dense_3_loss: 0.2734 - val_dense_4_loss: 0.2700 - val_dense_5_loss: 0.2480 - val_dense_1_accuracy: 0.9995 - val_dense_2_accuracy: 0.9805 - val_dense_3_accuracy: 0.9258 - val_dense_4_accuracy: 0.9278 - val_dense_5_accuracy: 0.9273\n",
      "Epoch 48/100\n",
      "204/204 - 62s - loss: 0.7555 - dense_1_loss: 2.8693e-04 - dense_2_loss: 0.0268 - dense_3_loss: 0.1440 - dense_4_loss: 0.2736 - dense_5_loss: 0.3109 - dense_1_accuracy: 0.9999 - dense_2_accuracy: 0.9910 - dense_3_accuracy: 0.9529 - dense_4_accuracy: 0.9092 - dense_5_accuracy: 0.8964 - val_loss: 0.8870 - val_dense_1_loss: 0.0081 - val_dense_2_loss: 0.0916 - val_dense_3_loss: 0.2739 - val_dense_4_loss: 0.2759 - val_dense_5_loss: 0.2374 - val_dense_1_accuracy: 0.9995 - val_dense_2_accuracy: 0.9798 - val_dense_3_accuracy: 0.9266 - val_dense_4_accuracy: 0.9276 - val_dense_5_accuracy: 0.9313\n",
      "Epoch 49/100\n",
      "204/204 - 62s - loss: 0.7426 - dense_1_loss: 4.4259e-04 - dense_2_loss: 0.0278 - dense_3_loss: 0.1462 - dense_4_loss: 0.2686 - dense_5_loss: 0.2995 - dense_1_accuracy: 0.9999 - dense_2_accuracy: 0.9908 - dense_3_accuracy: 0.9498 - dense_4_accuracy: 0.9105 - dense_5_accuracy: 0.9007 - val_loss: 0.8798 - val_dense_1_loss: 0.0086 - val_dense_2_loss: 0.0894 - val_dense_3_loss: 0.2713 - val_dense_4_loss: 0.2626 - val_dense_5_loss: 0.2479 - val_dense_1_accuracy: 0.9995 - val_dense_2_accuracy: 0.9812 - val_dense_3_accuracy: 0.9288 - val_dense_4_accuracy: 0.9321 - val_dense_5_accuracy: 0.9269\n",
      "Epoch 50/100\n",
      "204/204 - 62s - loss: 0.7385 - dense_1_loss: 5.2261e-04 - dense_2_loss: 0.0259 - dense_3_loss: 0.1471 - dense_4_loss: 0.2583 - dense_5_loss: 0.3068 - dense_1_accuracy: 0.9998 - dense_2_accuracy: 0.9918 - dense_3_accuracy: 0.9502 - dense_4_accuracy: 0.9137 - dense_5_accuracy: 0.8978 - val_loss: 0.8623 - val_dense_1_loss: 0.0074 - val_dense_2_loss: 0.0892 - val_dense_3_loss: 0.2655 - val_dense_4_loss: 0.2624 - val_dense_5_loss: 0.2378 - val_dense_1_accuracy: 0.9995 - val_dense_2_accuracy: 0.9799 - val_dense_3_accuracy: 0.9290 - val_dense_4_accuracy: 0.9298 - val_dense_5_accuracy: 0.9293\n",
      "Epoch 51/100\n",
      "204/204 - 62s - loss: 0.7256 - dense_1_loss: 6.0464e-04 - dense_2_loss: 0.0248 - dense_3_loss: 0.1411 - dense_4_loss: 0.2587 - dense_5_loss: 0.3004 - dense_1_accuracy: 0.9998 - dense_2_accuracy: 0.9920 - dense_3_accuracy: 0.9534 - dense_4_accuracy: 0.9145 - dense_5_accuracy: 0.9002 - val_loss: 0.8751 - val_dense_1_loss: 0.0078 - val_dense_2_loss: 0.0957 - val_dense_3_loss: 0.2650 - val_dense_4_loss: 0.2648 - val_dense_5_loss: 0.2419 - val_dense_1_accuracy: 0.9995 - val_dense_2_accuracy: 0.9795 - val_dense_3_accuracy: 0.9278 - val_dense_4_accuracy: 0.9278 - val_dense_5_accuracy: 0.9274\n",
      "Epoch 52/100\n",
      "204/204 - 62s - loss: 0.7160 - dense_1_loss: 6.1124e-04 - dense_2_loss: 0.0248 - dense_3_loss: 0.1363 - dense_4_loss: 0.2559 - dense_5_loss: 0.2984 - dense_1_accuracy: 0.9999 - dense_2_accuracy: 0.9915 - dense_3_accuracy: 0.9570 - dense_4_accuracy: 0.9144 - dense_5_accuracy: 0.9030 - val_loss: 0.8847 - val_dense_1_loss: 0.0080 - val_dense_2_loss: 0.0920 - val_dense_3_loss: 0.2702 - val_dense_4_loss: 0.2719 - val_dense_5_loss: 0.2425 - val_dense_1_accuracy: 0.9995 - val_dense_2_accuracy: 0.9812 - val_dense_3_accuracy: 0.9311 - val_dense_4_accuracy: 0.9302 - val_dense_5_accuracy: 0.9280\n",
      "Epoch 53/100\n",
      "204/204 - 61s - loss: 0.7193 - dense_1_loss: 8.6800e-04 - dense_2_loss: 0.0252 - dense_3_loss: 0.1369 - dense_4_loss: 0.2571 - dense_5_loss: 0.2992 - dense_1_accuracy: 0.9998 - dense_2_accuracy: 0.9913 - dense_3_accuracy: 0.9544 - dense_4_accuracy: 0.9139 - dense_5_accuracy: 0.9015 - val_loss: 0.8773 - val_dense_1_loss: 0.0074 - val_dense_2_loss: 0.0895 - val_dense_3_loss: 0.2690 - val_dense_4_loss: 0.2685 - val_dense_5_loss: 0.2429 - val_dense_1_accuracy: 0.9995 - val_dense_2_accuracy: 0.9818 - val_dense_3_accuracy: 0.9305 - val_dense_4_accuracy: 0.9317 - val_dense_5_accuracy: 0.9275\n"
     ]
    }
   ],
   "source": [
    "cnn_history = cnn_model.fit(img_train, lbl_train_list,\n",
    "                            batch_size=128,\n",
    "                            validation_data=(img_valid, lbl_valid_list),\n",
    "                            epochs=100,\n",
    "                            callbacks=[e_brake],\n",
    "                            verbose=2)"
   ]
  },
  {
   "cell_type": "code",
   "execution_count": 20,
   "metadata": {},
   "outputs": [
    {
     "data": {
      "text/plain": [
       "dict_keys(['loss', 'dense_1_loss', 'dense_2_loss', 'dense_3_loss', 'dense_4_loss', 'dense_5_loss', 'dense_1_accuracy', 'dense_2_accuracy', 'dense_3_accuracy', 'dense_4_accuracy', 'dense_5_accuracy', 'val_loss', 'val_dense_1_loss', 'val_dense_2_loss', 'val_dense_3_loss', 'val_dense_4_loss', 'val_dense_5_loss', 'val_dense_1_accuracy', 'val_dense_2_accuracy', 'val_dense_3_accuracy', 'val_dense_4_accuracy', 'val_dense_5_accuracy'])"
      ]
     },
     "execution_count": 20,
     "metadata": {},
     "output_type": "execute_result"
    }
   ],
   "source": [
    "cnn_history.history.keys()"
   ]
  },
  {
   "cell_type": "code",
   "execution_count": 21,
   "metadata": {},
   "outputs": [
    {
     "data": {
      "image/png": "[encoded data removed]",
      "text/plain": [
       "<Figure size 1008x504 with 1 Axes>"
      ]
     },
     "metadata": {
      "needs_background": "light"
     },
     "output_type": "display_data"
    }
   ],
   "source": [
    "plt.figure(figsize=(14, 7))\n",
    "\n",
    "plt.plot(cnn_history.history['loss'], label = 'Loss')\n",
    "plt.plot(cnn_history.history['val_loss'], label = 'Validation Loss')\n",
    "\n",
    "plt.legend()\n",
    "plt.title('Loss')\n",
    "plt.show()"
   ]
  },
  {
   "cell_type": "code",
   "execution_count": 22,
   "metadata": {
    "scrolled": false
   },
   "outputs": [
    {
     "data": {
      "image/png": "[encoded data removed]",
      "text/plain": [
       "<Figure size 1008x504 with 1 Axes>"
      ]
     },
     "metadata": {
      "needs_background": "light"
     },
     "output_type": "display_data"
    }
   ],
   "source": [
    "plt.figure(figsize=(14,7))\n",
    "\n",
    "plt.plot(cnn_history.history['dense_1_accuracy'], label = 'First digit')\n",
    "plt.plot(cnn_history.history['dense_2_accuracy'], label = 'Second digit')\n",
    "plt.plot(cnn_history.history['dense_3_accuracy'], label = 'Third digit')\n",
    "plt.plot(cnn_history.history['dense_4_accuracy'], label = 'Fourth digit')\n",
    "plt.plot(cnn_history.history['dense_5_accuracy'], label = 'Fifth digit')\n",
    "\n",
    "plt.legend()\n",
    "plt.title('Train Accuracy')\n",
    "plt.show()"
   ]
  },
  {
   "cell_type": "code",
   "execution_count": 23,
   "metadata": {},
   "outputs": [
    {
     "data": {
      "image/png": "[encoded data removed]",
      "text/plain": [
       "<Figure size 1008x504 with 1 Axes>"
      ]
     },
     "metadata": {
      "needs_background": "light"
     },
     "output_type": "display_data"
    }
   ],
   "source": [
    "plt.figure(figsize=(14,7))\n",
    "\n",
    "plt.plot(cnn_history.history['val_dense_1_accuracy'], label = 'First digit')\n",
    "plt.plot(cnn_history.history['val_dense_2_accuracy'], label = 'Second digit')\n",
    "plt.plot(cnn_history.history['val_dense_3_accuracy'], label = 'Third digit')\n",
    "plt.plot(cnn_history.history['val_dense_4_accuracy'], label = 'Fourth digit')\n",
    "plt.plot(cnn_history.history['val_dense_5_accuracy'], label = 'Fifth digit')\n",
    "\n",
    "plt.legend()\n",
    "plt.title('Validation Accuracy')\n",
    "plt.show()"
   ]
  },
  {
   "cell_type": "markdown",
   "metadata": {},
   "source": [
    "### Evaluate the model on the test dataset"
   ]
  },
  {
   "cell_type": "code",
   "execution_count": 24,
   "metadata": {},
   "outputs": [],
   "source": [
    "test_scores = cnn_model.evaluate(img_test, lbl_test_list, verbose=0)"
   ]
  },
  {
   "cell_type": "code",
   "execution_count": 25,
   "metadata": {},
   "outputs": [
    {
     "name": "stdout",
     "output_type": "stream",
     "text": [
      "First digit accuracy: 99.98%\n",
      "Second digit accuracy: 99.62%\n",
      "Third digit accuracy: 95.75%\n",
      "Fourth digit accuracy: 90.82%\n",
      "Fifth digit accuracy: 89.10%\n"
     ]
    }
   ],
   "source": [
    "print('First digit accuracy: {:0.2f}%'.format(test_scores[6]*100))\n",
    "print('Second digit accuracy: {:0.2f}%'.format(test_scores[7]*100))\n",
    "print('Third digit accuracy: {:0.2f}%'.format(test_scores[8]*100))\n",
    "print('Fourth digit accuracy: {:0.2f}%'.format(test_scores[9]*100))\n",
    "print('Fifth digit accuracy: {:0.2f}%'.format(test_scores[10]*100))"
   ]
  },
  {
   "cell_type": "code",
   "execution_count": 26,
   "metadata": {},
   "outputs": [
    {
     "name": "stdout",
     "output_type": "stream",
     "text": [
      "Overall model accuracy: 95.05%\n"
     ]
    }
   ],
   "source": [
    "print('Overall model accuracy: {:0.2f}%'.format((sum(test_scores[6:])/5)*100))"
   ]
  },
  {
   "cell_type": "code",
   "execution_count": null,
   "metadata": {},
   "outputs": [],
   "source": []
  }
 ],
 "metadata": {
  "kernelspec": {
   "display_name": "Python 3",
   "language": "python",
   "name": "python3"
  },
  "language_info": {
   "codemirror_mode": {
    "name": "ipython",
    "version": 3
   },
   "file_extension": ".py",
   "mimetype": "text/x-python",
   "name": "python",
   "nbconvert_exporter": "python",
   "pygments_lexer": "ipython3",
   "version": "3.7.6"
  }
 },
 "nbformat": 4,
 "nbformat_minor": 4
}
