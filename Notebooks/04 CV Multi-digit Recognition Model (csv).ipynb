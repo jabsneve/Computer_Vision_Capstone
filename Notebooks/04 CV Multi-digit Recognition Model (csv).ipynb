{
 "cells": [
  {
   "cell_type": "code",
   "execution_count": 1,
   "metadata": {},
   "outputs": [],
   "source": [
    "import numpy as np\n",
    "import tensorflow as tf\n",
    "import pandas as pd\n",
    "from tensorflow import keras\n",
    "from tensorflow.keras.models import Model\n",
    "from tensorflow.keras.layers import Dense, Input, Flatten, BatchNormalization, Conv2D, MaxPooling2D, Dropout\n",
    "from tensorflow.keras.optimizers import Adam\n",
    "from tensorflow.keras.metrics import categorical_crossentropy\n",
    "from tensorflow.keras.callbacks import EarlyStopping\n",
    "from tensorflow.keras.utils import to_categorical\n",
    "import matplotlib.pyplot as plt\n",
    "import warnings\n",
    "import glob\n",
    "from PIL import Image, ImageDraw\n",
    "warnings.simplefilter(action='ignore', category=FutureWarning)\n",
    "%matplotlib inline"
   ]
  },
  {
   "cell_type": "code",
   "execution_count": 2,
   "metadata": {},
   "outputs": [
    {
     "data": {
      "text/plain": [
       "['../RawData/csv\\\\bboxnames.csv',\n",
       " '../RawData/csv\\\\extra_images.csv',\n",
       " '../RawData/csv\\\\extra_images_2.csv',\n",
       " '../RawData/csv\\\\extra_labels.csv',\n",
       " '../RawData/csv\\\\extra_labels_2.csv',\n",
       " '../RawData/csv\\\\test_bboxes.csv',\n",
       " '../RawData/csv\\\\test_images.csv',\n",
       " '../RawData/csv\\\\test_images_2.csv',\n",
       " '../RawData/csv\\\\test_labels.csv',\n",
       " '../RawData/csv\\\\test_labels_2.csv',\n",
       " '../RawData/csv\\\\train_bboxes.csv',\n",
       " '../RawData/csv\\\\train_images.csv',\n",
       " '../RawData/csv\\\\train_images_2.csv',\n",
       " '../RawData/csv\\\\train_labels.csv',\n",
       " '../RawData/csv\\\\train_labels_2.csv']"
      ]
     },
     "execution_count": 2,
     "metadata": {},
     "output_type": "execute_result"
    }
   ],
   "source": [
    "# check out the file names within the directory\n",
    "\n",
    "data = glob.glob('../RawData/csv/*')\n",
    "data"
   ]
  },
  {
   "cell_type": "code",
   "execution_count": 3,
   "metadata": {},
   "outputs": [],
   "source": [
    "train_images = pd.read_csv('../RawData/csv/train_images.csv')\n",
    "train_images_2 = pd.read_csv('../RawData/csv/train_images_2.csv')\n",
    "train_labels = pd.read_csv('../RawData/csv/train_labels.csv')\n",
    "train_labels_2 = pd.read_csv('../RawData/csv/train_labels_2.csv')\n",
    "test_images = pd.read_csv('../RawData/csv/test_images.csv')\n",
    "test_labels = pd.read_csv('../RawData/csv/test_labels.csv')\n",
    "extra_images = pd.read_csv('../RawData/csv/extra_images.csv')\n",
    "extra_labels = pd.read_csv('../RawData/csv/extra_labels.csv')"
   ]
  },
  {
   "cell_type": "code",
   "execution_count": 4,
   "metadata": {},
   "outputs": [
    {
     "data": {
      "text/html": [
       "<div>\n",
       "<style scoped>\n",
       "    .dataframe tbody tr th:only-of-type {\n",
       "        vertical-align: middle;\n",
       "    }\n",
       "\n",
       "    .dataframe tbody tr th {\n",
       "        vertical-align: top;\n",
       "    }\n",
       "\n",
       "    .dataframe thead th {\n",
       "        text-align: right;\n",
       "    }\n",
       "</style>\n",
       "<table border=\"1\" class=\"dataframe\">\n",
       "  <thead>\n",
       "    <tr style=\"text-align: right;\">\n",
       "      <th></th>\n",
       "      <th>filename</th>\n",
       "      <th>0</th>\n",
       "      <th>1</th>\n",
       "      <th>2</th>\n",
       "      <th>3</th>\n",
       "      <th>4</th>\n",
       "      <th>5</th>\n",
       "      <th>6</th>\n",
       "      <th>7</th>\n",
       "      <th>8</th>\n",
       "      <th>...</th>\n",
       "      <th>1014</th>\n",
       "      <th>1015</th>\n",
       "      <th>1016</th>\n",
       "      <th>1017</th>\n",
       "      <th>1018</th>\n",
       "      <th>1019</th>\n",
       "      <th>1020</th>\n",
       "      <th>1021</th>\n",
       "      <th>1022</th>\n",
       "      <th>1023</th>\n",
       "    </tr>\n",
       "  </thead>\n",
       "  <tbody>\n",
       "    <tr>\n",
       "      <th>0</th>\n",
       "      <td>5502.png</td>\n",
       "      <td>0.352349</td>\n",
       "      <td>0.366906</td>\n",
       "      <td>0.373620</td>\n",
       "      <td>0.360278</td>\n",
       "      <td>0.330929</td>\n",
       "      <td>0.309424</td>\n",
       "      <td>0.293906</td>\n",
       "      <td>0.297059</td>\n",
       "      <td>0.304902</td>\n",
       "      <td>...</td>\n",
       "      <td>0.474878</td>\n",
       "      <td>0.470063</td>\n",
       "      <td>0.467549</td>\n",
       "      <td>0.470576</td>\n",
       "      <td>0.476565</td>\n",
       "      <td>0.470106</td>\n",
       "      <td>0.438710</td>\n",
       "      <td>0.421169</td>\n",
       "      <td>0.385192</td>\n",
       "      <td>0.345294</td>\n",
       "    </tr>\n",
       "    <tr>\n",
       "      <th>1</th>\n",
       "      <td>6876.png</td>\n",
       "      <td>0.754941</td>\n",
       "      <td>0.726082</td>\n",
       "      <td>0.680365</td>\n",
       "      <td>0.628380</td>\n",
       "      <td>0.572475</td>\n",
       "      <td>0.520447</td>\n",
       "      <td>0.486898</td>\n",
       "      <td>0.469718</td>\n",
       "      <td>0.449831</td>\n",
       "      <td>...</td>\n",
       "      <td>0.485941</td>\n",
       "      <td>0.496576</td>\n",
       "      <td>0.506486</td>\n",
       "      <td>0.513882</td>\n",
       "      <td>0.515012</td>\n",
       "      <td>0.508341</td>\n",
       "      <td>0.515290</td>\n",
       "      <td>0.526161</td>\n",
       "      <td>0.558259</td>\n",
       "      <td>0.578592</td>\n",
       "    </tr>\n",
       "    <tr>\n",
       "      <th>2</th>\n",
       "      <td>12741.png</td>\n",
       "      <td>0.180714</td>\n",
       "      <td>0.192925</td>\n",
       "      <td>0.204243</td>\n",
       "      <td>0.226600</td>\n",
       "      <td>0.233271</td>\n",
       "      <td>0.227729</td>\n",
       "      <td>0.225663</td>\n",
       "      <td>0.221294</td>\n",
       "      <td>0.218545</td>\n",
       "      <td>...</td>\n",
       "      <td>0.482420</td>\n",
       "      <td>0.495078</td>\n",
       "      <td>0.532439</td>\n",
       "      <td>0.593161</td>\n",
       "      <td>0.634722</td>\n",
       "      <td>0.678584</td>\n",
       "      <td>0.745933</td>\n",
       "      <td>0.725878</td>\n",
       "      <td>0.620443</td>\n",
       "      <td>0.527667</td>\n",
       "    </tr>\n",
       "  </tbody>\n",
       "</table>\n",
       "<p>3 rows × 1025 columns</p>\n",
       "</div>"
      ],
      "text/plain": [
       "    filename         0         1         2         3         4         5  \\\n",
       "0   5502.png  0.352349  0.366906  0.373620  0.360278  0.330929  0.309424   \n",
       "1   6876.png  0.754941  0.726082  0.680365  0.628380  0.572475  0.520447   \n",
       "2  12741.png  0.180714  0.192925  0.204243  0.226600  0.233271  0.227729   \n",
       "\n",
       "          6         7         8  ...      1014      1015      1016      1017  \\\n",
       "0  0.293906  0.297059  0.304902  ...  0.474878  0.470063  0.467549  0.470576   \n",
       "1  0.486898  0.469718  0.449831  ...  0.485941  0.496576  0.506486  0.513882   \n",
       "2  0.225663  0.221294  0.218545  ...  0.482420  0.495078  0.532439  0.593161   \n",
       "\n",
       "       1018      1019      1020      1021      1022      1023  \n",
       "0  0.476565  0.470106  0.438710  0.421169  0.385192  0.345294  \n",
       "1  0.515012  0.508341  0.515290  0.526161  0.558259  0.578592  \n",
       "2  0.634722  0.678584  0.745933  0.725878  0.620443  0.527667  \n",
       "\n",
       "[3 rows x 1025 columns]"
      ]
     },
     "execution_count": 4,
     "metadata": {},
     "output_type": "execute_result"
    }
   ],
   "source": [
    "train_images.head(3)"
   ]
  },
  {
   "cell_type": "code",
   "execution_count": 5,
   "metadata": {},
   "outputs": [
    {
     "data": {
      "text/html": [
       "<div>\n",
       "<style scoped>\n",
       "    .dataframe tbody tr th:only-of-type {\n",
       "        vertical-align: middle;\n",
       "    }\n",
       "\n",
       "    .dataframe tbody tr th {\n",
       "        vertical-align: top;\n",
       "    }\n",
       "\n",
       "    .dataframe thead th {\n",
       "        text-align: right;\n",
       "    }\n",
       "</style>\n",
       "<table border=\"1\" class=\"dataframe\">\n",
       "  <thead>\n",
       "    <tr style=\"text-align: right;\">\n",
       "      <th></th>\n",
       "      <th>filename</th>\n",
       "      <th>0</th>\n",
       "      <th>1</th>\n",
       "      <th>2</th>\n",
       "      <th>3</th>\n",
       "      <th>4</th>\n",
       "    </tr>\n",
       "  </thead>\n",
       "  <tbody>\n",
       "    <tr>\n",
       "      <th>0</th>\n",
       "      <td>5502.png</td>\n",
       "      <td>10.0</td>\n",
       "      <td>10.0</td>\n",
       "      <td>10.0</td>\n",
       "      <td>3.0</td>\n",
       "      <td>5.0</td>\n",
       "    </tr>\n",
       "    <tr>\n",
       "      <th>1</th>\n",
       "      <td>6876.png</td>\n",
       "      <td>10.0</td>\n",
       "      <td>10.0</td>\n",
       "      <td>10.0</td>\n",
       "      <td>1.0</td>\n",
       "      <td>5.0</td>\n",
       "    </tr>\n",
       "    <tr>\n",
       "      <th>2</th>\n",
       "      <td>12741.png</td>\n",
       "      <td>10.0</td>\n",
       "      <td>10.0</td>\n",
       "      <td>10.0</td>\n",
       "      <td>2.0</td>\n",
       "      <td>9.0</td>\n",
       "    </tr>\n",
       "  </tbody>\n",
       "</table>\n",
       "</div>"
      ],
      "text/plain": [
       "    filename     0     1     2    3    4\n",
       "0   5502.png  10.0  10.0  10.0  3.0  5.0\n",
       "1   6876.png  10.0  10.0  10.0  1.0  5.0\n",
       "2  12741.png  10.0  10.0  10.0  2.0  9.0"
      ]
     },
     "execution_count": 5,
     "metadata": {},
     "output_type": "execute_result"
    }
   ],
   "source": [
    "train_labels.head(3)"
   ]
  },
  {
   "cell_type": "markdown",
   "metadata": {},
   "source": [
    "In order to have the data work within the model the images will need to be changed to data type float32."
   ]
  },
  {
   "cell_type": "code",
   "execution_count": 6,
   "metadata": {},
   "outputs": [],
   "source": [
    "# convert all values in all rows and all columns beginning at column index 1 to float32\n",
    "\n",
    "train_images = np.array(train_images.iloc[:,1:].astype('float32'))\n",
    "train_labels = np.array(train_labels.iloc[:,1:].astype('float32'))\n",
    "\n",
    "train_images_2 = np.array(train_images_2.iloc[:,1:].astype('float32'))\n",
    "train_labels_2 = np.array(train_labels_2.iloc[:,1:].astype('float32'))\n",
    "\n",
    "test_images = np.array(test_images.iloc[:,1:].astype('float32'))\n",
    "test_labels = np.array(test_labels.iloc[:,1:].astype('float32'))\n",
    "\n",
    "extra_images = np.array(extra_images.iloc[:,1:].astype('float32'))\n",
    "extra_labels = np.array(extra_labels.iloc[:,1:].astype('float32'))"
   ]
  },
  {
   "cell_type": "code",
   "execution_count": 7,
   "metadata": {},
   "outputs": [
    {
     "name": "stdout",
     "output_type": "stream",
     "text": [
      "Label:  [10. 10. 10.  3.  5.]\n"
     ]
    },
    {
     "data": {
      "image/png": "[encoded data removed]",
      "text/plain": [
       "<Figure size 432x288 with 1 Axes>"
      ]
     },
     "metadata": {
      "needs_background": "light"
     },
     "output_type": "display_data"
    }
   ],
   "source": [
    "# plot an image to get a visual of what they look like\n",
    "\n",
    "print('Label: ', train_labels[0])\n",
    "plt.imshow(train_images[0].reshape(32,32), cmap=plt.cm.bone)\n",
    "\n",
    "plt.show()"
   ]
  },
  {
   "cell_type": "code",
   "execution_count": 8,
   "metadata": {},
   "outputs": [],
   "source": [
    "# define a function to create a binary matrix from the labels arrays\n",
    "\n",
    "def digit_to_categorical(data):\n",
    "    n = data.shape[1]\n",
    "    data_cat = np.empty([len(data), n, 11])    \n",
    "    for i in range(n):\n",
    "        data_cat[:, i] = to_categorical(data[:, i], num_classes=11)        \n",
    "    return data_cat"
   ]
  },
  {
   "cell_type": "code",
   "execution_count": 9,
   "metadata": {},
   "outputs": [],
   "source": [
    "# concatenate and reshape the 2 training sets (images and labels)\n",
    "\n",
    "img_train = np.concatenate((train_images.reshape(-1, 32, 32, 1),\n",
    "                            train_images_2.reshape(-1, 32, 32, 1)),\n",
    "                            axis=0)\n",
    "lbl_train = np.concatenate((digit_to_categorical(train_labels),\n",
    "                            digit_to_categorical(train_labels_2)),\n",
    "                            axis=0)"
   ]
  },
  {
   "cell_type": "code",
   "execution_count": 10,
   "metadata": {},
   "outputs": [],
   "source": [
    "# make extra images and labels the validation sets\n",
    "\n",
    "img_valid = extra_images.reshape(-1, 32, 32, 1)\n",
    "lbl_valid = digit_to_categorical(extra_labels)"
   ]
  },
  {
   "cell_type": "code",
   "execution_count": 11,
   "metadata": {},
   "outputs": [],
   "source": [
    "# reshape and binarize the test sets\n",
    "\n",
    "img_test = test_images.reshape(-1, 32, 32, 1)\n",
    "lbl_test = digit_to_categorical(test_labels)"
   ]
  },
  {
   "cell_type": "code",
   "execution_count": 12,
   "metadata": {},
   "outputs": [
    {
     "name": "stdout",
     "output_type": "stream",
     "text": [
      "Training images shape:   (26000, 32, 32, 1)\n",
      "Validation images shape: (13000, 32, 32, 1)\n",
      "Testing images shape:    (6000, 32, 32, 1)\n",
      "Training labels shape:   (26000, 5, 11)\n",
      "Validation labels shape: (13000, 5, 11)\n",
      "Testing labels shape:    (6000, 5, 11)\n"
     ]
    }
   ],
   "source": [
    "# check to ensure the image and label data are of the correct shape\n",
    "\n",
    "print('Training images shape:  ', img_train.shape)\n",
    "print('Validation images shape:', img_valid.shape)\n",
    "print('Testing images shape:   ', img_test.shape)\n",
    "print('Training labels shape:  ', lbl_train.shape)\n",
    "print('Validation labels shape:', lbl_valid.shape)\n",
    "print('Testing labels shape:   ', lbl_test.shape)"
   ]
  },
  {
   "cell_type": "code",
   "execution_count": 13,
   "metadata": {},
   "outputs": [],
   "source": [
    "# convert label arrays into lists\n",
    "\n",
    "lbl_train_list = [lbl_train[:, i] for i in range(5)]\n",
    "lbl_test_list = [lbl_test[:, i] for i in range(5)]\n",
    "lbl_valid_list = [lbl_valid[:, i] for i in range(5)]"
   ]
  },
  {
   "cell_type": "markdown",
   "metadata": {},
   "source": [
    "# Keras Functional Model"
   ]
  },
  {
   "cell_type": "code",
   "execution_count": 14,
   "metadata": {},
   "outputs": [],
   "source": [
    "def cnn_model():    \n",
    "    model_input = Input(shape=(32, 32, 1))\n",
    "    x = BatchNormalization()(model_input)\n",
    "        \n",
    "    x = Conv2D(32, (3, 3), activation='relu', padding='same')(model_input)\n",
    "    x = Conv2D(32, (3, 3), activation='relu', padding='same')(x)\n",
    "    x = BatchNormalization()(x)\n",
    "    x = MaxPooling2D(pool_size=(2, 2))(x)\n",
    "    x = Dropout(0.2)(x)\n",
    "    \n",
    "    #x = Conv2D(64, (3, 3), activation='relu')(x)\n",
    "    #x = BatchNormalization()(x)\n",
    "    x = Conv2D(64, (3, 3), activation='relu', padding='same')(x)\n",
    "    x = BatchNormalization()(x)\n",
    "    x = MaxPooling2D(pool_size=(2, 2))(x)\n",
    "    x = Dropout(0.3)(x)\n",
    "    \n",
    "    #x = Conv2D(128, (3, 3), activation='relu')(x)\n",
    "    #x = BatchNormalization()(x)\n",
    "    x = Conv2D(128, (3, 3), activation='relu', padding='same')(x)\n",
    "    x = BatchNormalization()(x)\n",
    "    x = MaxPooling2D(pool_size=(2, 2))(x)\n",
    "    x = Dropout(0.4)(x)\n",
    "    \n",
    "    x = Flatten()(x)\n",
    "    x = Dense(512, activation='relu')(x)\n",
    "    x = Dropout(0.5)(x)\n",
    "    \n",
    "    out = [Dense(11, activation='softmax')(x) for i in range(5)]\n",
    "    \n",
    "    model = Model(inputs=model_input, outputs=out)\n",
    "    \n",
    "    model.compile(loss='categorical_crossentropy', optimizer='adam', metrics=['accuracy'])\n",
    "    return model"
   ]
  },
  {
   "cell_type": "code",
   "execution_count": 15,
   "metadata": {},
   "outputs": [],
   "source": [
    "cnn_model = cnn_model()"
   ]
  },
  {
   "cell_type": "code",
   "execution_count": 16,
   "metadata": {},
   "outputs": [],
   "source": [
    "e_brake = EarlyStopping(monitor='val_loss', patience=8)"
   ]
  },
  {
   "cell_type": "code",
   "execution_count": 17,
   "metadata": {},
   "outputs": [
    {
     "name": "stdout",
     "output_type": "stream",
     "text": [
      "Model: \"model\"\n",
      "__________________________________________________________________________________________________\n",
      "Layer (type)                    Output Shape         Param #     Connected to                     \n",
      "==================================================================================================\n",
      "input_1 (InputLayer)            [(None, 32, 32, 1)]  0                                            \n",
      "__________________________________________________________________________________________________\n",
      "conv2d (Conv2D)                 (None, 32, 32, 32)   320         input_1[0][0]                    \n",
      "__________________________________________________________________________________________________\n",
      "conv2d_1 (Conv2D)               (None, 32, 32, 32)   9248        conv2d[0][0]                     \n",
      "__________________________________________________________________________________________________\n",
      "batch_normalization_1 (BatchNor (None, 32, 32, 32)   128         conv2d_1[0][0]                   \n",
      "__________________________________________________________________________________________________\n",
      "max_pooling2d (MaxPooling2D)    (None, 16, 16, 32)   0           batch_normalization_1[0][0]      \n",
      "__________________________________________________________________________________________________\n",
      "dropout (Dropout)               (None, 16, 16, 32)   0           max_pooling2d[0][0]              \n",
      "__________________________________________________________________________________________________\n",
      "conv2d_2 (Conv2D)               (None, 16, 16, 64)   18496       dropout[0][0]                    \n",
      "__________________________________________________________________________________________________\n",
      "batch_normalization_2 (BatchNor (None, 16, 16, 64)   256         conv2d_2[0][0]                   \n",
      "__________________________________________________________________________________________________\n",
      "max_pooling2d_1 (MaxPooling2D)  (None, 8, 8, 64)     0           batch_normalization_2[0][0]      \n",
      "__________________________________________________________________________________________________\n",
      "dropout_1 (Dropout)             (None, 8, 8, 64)     0           max_pooling2d_1[0][0]            \n",
      "__________________________________________________________________________________________________\n",
      "conv2d_3 (Conv2D)               (None, 8, 8, 128)    73856       dropout_1[0][0]                  \n",
      "__________________________________________________________________________________________________\n",
      "batch_normalization_3 (BatchNor (None, 8, 8, 128)    512         conv2d_3[0][0]                   \n",
      "__________________________________________________________________________________________________\n",
      "max_pooling2d_2 (MaxPooling2D)  (None, 4, 4, 128)    0           batch_normalization_3[0][0]      \n",
      "__________________________________________________________________________________________________\n",
      "dropout_2 (Dropout)             (None, 4, 4, 128)    0           max_pooling2d_2[0][0]            \n",
      "__________________________________________________________________________________________________\n",
      "flatten (Flatten)               (None, 2048)         0           dropout_2[0][0]                  \n",
      "__________________________________________________________________________________________________\n",
      "dense (Dense)                   (None, 512)          1049088     flatten[0][0]                    \n",
      "__________________________________________________________________________________________________\n",
      "dropout_3 (Dropout)             (None, 512)          0           dense[0][0]                      \n",
      "__________________________________________________________________________________________________\n",
      "dense_1 (Dense)                 (None, 11)           5643        dropout_3[0][0]                  \n",
      "__________________________________________________________________________________________________\n",
      "dense_2 (Dense)                 (None, 11)           5643        dropout_3[0][0]                  \n",
      "__________________________________________________________________________________________________\n",
      "dense_3 (Dense)                 (None, 11)           5643        dropout_3[0][0]                  \n",
      "__________________________________________________________________________________________________\n",
      "dense_4 (Dense)                 (None, 11)           5643        dropout_3[0][0]                  \n",
      "__________________________________________________________________________________________________\n",
      "dense_5 (Dense)                 (None, 11)           5643        dropout_3[0][0]                  \n",
      "==================================================================================================\n",
      "Total params: 1,180,119\n",
      "Trainable params: 1,179,671\n",
      "Non-trainable params: 448\n",
      "__________________________________________________________________________________________________\n"
     ]
    }
   ],
   "source": [
    "cnn_model.summary()"
   ]
  },
  {
   "cell_type": "markdown",
   "metadata": {},
   "source": [
    "### Fit the model to the training and validation datasets"
   ]
  },
  {
   "cell_type": "code",
   "execution_count": 18,
   "metadata": {},
   "outputs": [],
   "source": [
    "cnn_history = cnn_model.fit(img_train, lbl_train_list,\n",
    "                            batch_size=128,\n",
    "                            validation_data=(img_valid, lbl_valid_list),\n",
    "                            epochs=100,\n",
    "                            callbacks=[e_brake],\n",
    "                            verbose=0)"
   ]
  },
  {
   "cell_type": "code",
   "execution_count": 20,
   "metadata": {},
   "outputs": [
    {
     "data": {
      "image/png": "[encoded data removed]",
      "text/plain": [
       "<Figure size 1008x504 with 1 Axes>"
      ]
     },
     "metadata": {
      "needs_background": "light"
     },
     "output_type": "display_data"
    }
   ],
   "source": [
    "plt.figure(figsize=(14, 7))\n",
    "\n",
    "plt.plot(cnn_history.history['loss'], label = 'Loss')\n",
    "plt.plot(cnn_history.history['val_loss'], label = 'Validation Loss')\n",
    "\n",
    "plt.legend()\n",
    "plt.title('Loss')\n",
    "plt.show()"
   ]
  },
  {
   "cell_type": "code",
   "execution_count": 21,
   "metadata": {
    "scrolled": false
   },
   "outputs": [
    {
     "data": {
      "image/png": "[encoded data removed]",
      "text/plain": [
       "<Figure size 1008x504 with 1 Axes>"
      ]
     },
     "metadata": {
      "needs_background": "light"
     },
     "output_type": "display_data"
    }
   ],
   "source": [
    "plt.figure(figsize=(14,7))\n",
    "\n",
    "plt.plot(cnn_history.history['dense_1_accuracy'], label = 'First digit')\n",
    "plt.plot(cnn_history.history['dense_2_accuracy'], label = 'Second digit')\n",
    "plt.plot(cnn_history.history['dense_3_accuracy'], label = 'Third digit')\n",
    "plt.plot(cnn_history.history['dense_4_accuracy'], label = 'Fourth digit')\n",
    "plt.plot(cnn_history.history['dense_5_accuracy'], label = 'Fifth digit')\n",
    "\n",
    "plt.legend()\n",
    "plt.title('Train Accuracy')\n",
    "plt.show()"
   ]
  },
  {
   "cell_type": "code",
   "execution_count": 22,
   "metadata": {},
   "outputs": [
    {
     "data": {
      "image/png": "[encoded data removed]",
      "text/plain": [
       "<Figure size 1008x504 with 1 Axes>"
      ]
     },
     "metadata": {
      "needs_background": "light"
     },
     "output_type": "display_data"
    }
   ],
   "source": [
    "plt.figure(figsize=(14,7))\n",
    "\n",
    "plt.plot(cnn_history.history['val_dense_1_accuracy'], label = 'First digit')\n",
    "plt.plot(cnn_history.history['val_dense_2_accuracy'], label = 'Second digit')\n",
    "plt.plot(cnn_history.history['val_dense_3_accuracy'], label = 'Third digit')\n",
    "plt.plot(cnn_history.history['val_dense_4_accuracy'], label = 'Fourth digit')\n",
    "plt.plot(cnn_history.history['val_dense_5_accuracy'], label = 'Fifth digit')\n",
    "\n",
    "plt.legend()\n",
    "plt.title('Validation Accuracy')\n",
    "plt.show()"
   ]
  },
  {
   "cell_type": "markdown",
   "metadata": {},
   "source": [
    "### Evaluate the model on the test datasets"
   ]
  },
  {
   "cell_type": "code",
   "execution_count": 23,
   "metadata": {},
   "outputs": [],
   "source": [
    "test_scores = cnn_model.evaluate(img_test, lbl_test_list, verbose=0)"
   ]
  },
  {
   "cell_type": "code",
   "execution_count": 24,
   "metadata": {},
   "outputs": [
    {
     "name": "stdout",
     "output_type": "stream",
     "text": [
      "First digit accuracy: 99.98%\n",
      "Second digit accuracy: 99.58%\n",
      "Third digit accuracy: 95.68%\n",
      "Fourth digit accuracy: 91.02%\n",
      "Fifth digit accuracy: 88.83%\n"
     ]
    }
   ],
   "source": [
    "print('First digit accuracy: {:0.2f}%'.format(test_scores[6]*100))\n",
    "print('Second digit accuracy: {:0.2f}%'.format(test_scores[7]*100))\n",
    "print('Third digit accuracy: {:0.2f}%'.format(test_scores[8]*100))\n",
    "print('Fourth digit accuracy: {:0.2f}%'.format(test_scores[9]*100))\n",
    "print('Fifth digit accuracy: {:0.2f}%'.format(test_scores[10]*100))"
   ]
  },
  {
   "cell_type": "code",
   "execution_count": 25,
   "metadata": {},
   "outputs": [
    {
     "name": "stdout",
     "output_type": "stream",
     "text": [
      "Overall model accuracy: 95.02%\n"
     ]
    }
   ],
   "source": [
    "print('Overall model accuracy: {:0.2f}%'.format((sum(test_scores[6:])/5)*100))"
   ]
  },
  {
   "cell_type": "code",
   "execution_count": null,
   "metadata": {},
   "outputs": [],
   "source": []
  }
 ],
 "metadata": {
  "kernelspec": {
   "display_name": "Python 3",
   "language": "python",
   "name": "python3"
  },
  "language_info": {
   "codemirror_mode": {
    "name": "ipython",
    "version": 3
   },
   "file_extension": ".py",
   "mimetype": "text/x-python",
   "name": "python",
   "nbconvert_exporter": "python",
   "pygments_lexer": "ipython3",
   "version": "3.7.6"
  }
 },
 "nbformat": 4,
 "nbformat_minor": 4
}
