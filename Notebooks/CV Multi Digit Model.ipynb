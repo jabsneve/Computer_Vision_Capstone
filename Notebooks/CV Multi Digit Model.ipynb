{
 "cells": [
  {
   "cell_type": "code",
   "execution_count": 1,
   "metadata": {},
   "outputs": [],
   "source": [
    "import numpy as np\n",
    "import tensorflow as tf\n",
    "import pandas as pd\n",
    "from tensorflow import keras\n",
    "from tensorflow.keras.models import Sequential, Model\n",
    "from tensorflow.keras.layers import Activation, Dense, Input, Flatten, BatchNormalization, Conv2D, MaxPooling2D, Dropout\n",
    "from tensorflow.keras.optimizers import Adam\n",
    "from tensorflow.keras.metrics import categorical_crossentropy\n",
    "from tensorflow.keras.preprocessing.image import ImageDataGenerator\n",
    "from tensorflow.keras.callbacks import EarlyStopping\n",
    "from tensorflow.keras.utils import to_categorical\n",
    "from sklearn.metrics import confusion_matrix\n",
    "from sklearn.preprocessing import LabelBinarizer\n",
    "from sklearn.model_selection import train_test_split\n",
    "from scipy.io import loadmat\n",
    "import h5py\n",
    "import matplotlib.pyplot as plt\n",
    "import warnings\n",
    "import json\n",
    "import gzip\n",
    "import os\n",
    "import sys\n",
    "import tarfile\n",
    "import glob\n",
    "import random\n",
    "import shutil\n",
    "import seaborn as sns\n",
    "from PIL import Image, ImageDraw\n",
    "warnings.simplefilter(action='ignore', category=FutureWarning)\n",
    "%matplotlib inline"
   ]
  },
  {
   "cell_type": "code",
   "execution_count": null,
   "metadata": {},
   "outputs": [],
   "source": [
    "# if importing directly from the url\n",
    "\n",
    "# urllib.request.urlretrieve(\"http://ufldl.stanford.edu/housenumbers/train.tar.gz\", \"../Data/train.tar.gz\")\n",
    "# urllib.request.urlretrieve(\"http://ufldl.stanford.edu/housenumbers/test.tar.gz\", \"../Data/test.tar.gz\")\n",
    "# urllib.request.urlretrieve(\"http://ufldl.stanford.edu/housenumbers/extra.tar.gz\", \"../Data/extra.tar.gz\")"
   ]
  },
  {
   "cell_type": "code",
   "execution_count": 2,
   "metadata": {},
   "outputs": [],
   "source": [
    "data = glob.glob('../RawData/csv/*')"
   ]
  },
  {
   "cell_type": "code",
   "execution_count": 3,
   "metadata": {},
   "outputs": [
    {
     "data": {
      "text/plain": [
       "['../RawData/csv\\\\extra_images.csv',\n",
       " '../RawData/csv\\\\extra_images_2.csv',\n",
       " '../RawData/csv\\\\extra_labels.csv',\n",
       " '../RawData/csv\\\\extra_labels_2.csv',\n",
       " '../RawData/csv\\\\test_images.csv',\n",
       " '../RawData/csv\\\\test_images_2.csv',\n",
       " '../RawData/csv\\\\test_labels.csv',\n",
       " '../RawData/csv\\\\test_labels_2.csv',\n",
       " '../RawData/csv\\\\train_images.csv',\n",
       " '../RawData/csv\\\\train_images_2.csv',\n",
       " '../RawData/csv\\\\train_labels.csv',\n",
       " '../RawData/csv\\\\train_labels_2.csv']"
      ]
     },
     "execution_count": 3,
     "metadata": {},
     "output_type": "execute_result"
    }
   ],
   "source": [
    "data"
   ]
  },
  {
   "cell_type": "code",
   "execution_count": 4,
   "metadata": {},
   "outputs": [],
   "source": [
    "train_images = pd.read_csv('../RawData/csv/train_images.csv')\n",
    "train_labels = pd.read_csv('../RawData/csv/train_labels.csv')\n",
    "test_images = pd.read_csv('../RawData/csv/test_images.csv')\n",
    "test_labels = pd.read_csv('../RawData/csv/test_labels.csv')\n",
    "extra_images = pd.read_csv('../RawData/csv/extra_images.csv')\n",
    "extra_labels = pd.read_csv('../RawData/csv/extra_labels.csv')"
   ]
  },
  {
   "cell_type": "code",
   "execution_count": null,
   "metadata": {},
   "outputs": [],
   "source": [
    "train_images.head()"
   ]
  },
  {
   "cell_type": "code",
   "execution_count": null,
   "metadata": {},
   "outputs": [],
   "source": [
    "train_labels.head()"
   ]
  },
  {
   "cell_type": "code",
   "execution_count": null,
   "metadata": {},
   "outputs": [],
   "source": [
    "type(train_images)"
   ]
  },
  {
   "cell_type": "code",
   "execution_count": 5,
   "metadata": {},
   "outputs": [],
   "source": [
    "train_images = np.array(train_images.iloc[:,1:].astype('float32'))\n",
    "train_labels = np.array(train_labels.iloc[:,1:].astype('int16'))\n",
    "\n",
    "test_images = np.array(test_images.iloc[:,1:].astype('float32'))\n",
    "test_labels = np.array(test_labels.iloc[:,1:].astype('int16'))\n",
    "\n",
    "extra_images = np.array(extra_images.iloc[:,1:].astype('float32'))\n",
    "extra_labels = np.array(extra_labels.iloc[:,1:].astype('int16'))"
   ]
  },
  {
   "cell_type": "code",
   "execution_count": null,
   "metadata": {},
   "outputs": [],
   "source": [
    "type(train_labels)"
   ]
  },
  {
   "cell_type": "code",
   "execution_count": 6,
   "metadata": {},
   "outputs": [
    {
     "name": "stdout",
     "output_type": "stream",
     "text": [
      "Label:  [10 10 10  3  6]\n"
     ]
    },
    {
     "data": {
      "image/png": "[encoded data removed]",
      "text/plain": [
       "<Figure size 432x288 with 1 Axes>"
      ]
     },
     "metadata": {
      "needs_background": "light"
     },
     "output_type": "display_data"
    }
   ],
   "source": [
    "print('Label: ', train_labels[4])\n",
    "plt.imshow(train_images[4].reshape(32,32), cmap=plt.cm.bone)\n",
    "plt.show()"
   ]
  },
  {
   "cell_type": "code",
   "execution_count": 7,
   "metadata": {},
   "outputs": [],
   "source": [
    "def digit_to_categorical(data):\n",
    "    n = data.shape[1]\n",
    "    data_cat = np.empty([len(data), n, 11])    \n",
    "    for i in range(n):\n",
    "        data_cat[:, i] = to_categorical(data[:, i], num_classes=11)        \n",
    "    return data_cat"
   ]
  },
  {
   "cell_type": "code",
   "execution_count": 8,
   "metadata": {},
   "outputs": [
    {
     "data": {
      "text/plain": [
       "((19000, 32, 32, 1),\n",
       " (6500, 32, 32, 1),\n",
       " (6500, 32, 32, 1),\n",
       " (19000, 5, 11),\n",
       " (6500, 5, 11),\n",
       " (6500, 5, 11))"
      ]
     },
     "execution_count": 8,
     "metadata": {},
     "output_type": "execute_result"
    }
   ],
   "source": [
    "x_train = np.concatenate((train_images.reshape(-1, 32, 32, 1),\n",
    "                             test_images.reshape(-1, 32, 32, 1)),\n",
    "                            axis=0)\n",
    "y_train = np.concatenate((digit_to_categorical(train_labels),\n",
    "                             digit_to_categorical(test_labels)),\n",
    "                            axis=0)\n",
    "\n",
    "x_valid = extra_images.reshape(-1, 32, 32, 1)\n",
    "y_valid = digit_to_categorical(extra_labels)\n",
    "\n",
    "n = int(len(x_valid)/2)\n",
    "x_test, y_test = x_valid[:n], y_valid[:n]\n",
    "x_valid, y_valid = x_valid[n:], y_valid[n:]\n",
    "\n",
    "x_train.shape, x_test.shape, x_valid.shape, \\\n",
    "y_train.shape, y_test.shape, y_valid.shape"
   ]
  },
  {
   "cell_type": "code",
   "execution_count": 9,
   "metadata": {},
   "outputs": [],
   "source": [
    "y_train_list = [y_train[:, i] for i in range(5)]\n",
    "y_test_list = [y_test[:, i] for i in range(5)]\n",
    "y_valid_list = [y_valid[:, i] for i in range(5)]"
   ]
  },
  {
   "cell_type": "code",
   "execution_count": 10,
   "metadata": {},
   "outputs": [],
   "source": [
    "def cnn_model():    \n",
    "    model_input = Input(shape=(32, 32, 1))\n",
    "    x = BatchNormalization()(model_input)\n",
    "        \n",
    "    x = Conv2D(32, (3, 3), activation='relu', padding='same')(model_input)\n",
    "    x = MaxPooling2D(pool_size=(2, 2))(x) \n",
    "    \n",
    "    x = Conv2D(32, (3, 3), activation='relu')(x)\n",
    "    x = MaxPooling2D(pool_size=(2, 2))(x)    \n",
    "    x = BatchNormalization()(x)\n",
    "    \n",
    "    x = Conv2D(64, (3, 3), activation='relu')(x)       \n",
    "    x = Conv2D(64, (3, 3), activation='relu')(x)    \n",
    "    x = Dropout(0.25)(x)\n",
    "    \n",
    "    x = Conv2D(128, (3, 3), activation='relu')(x)    \n",
    "    x = BatchNormalization()(x)\n",
    "              \n",
    "    x = Flatten()(x)\n",
    "    \n",
    "    x = Dense(512, activation='relu')(x)\n",
    "    x = Dropout(0.5)(x)\n",
    "    \n",
    "    y1 = Dense(11, activation='softmax')(x)\n",
    "    y2 = Dense(11, activation='softmax')(x)\n",
    "    y3 = Dense(11, activation='softmax')(x)\n",
    "    y4 = Dense(11, activation='softmax')(x)\n",
    "    y5 = Dense(11, activation='softmax')(x)\n",
    "    model = Model(inputs=model_input, outputs=[y1,y2,y3,y4,y5])\n",
    "    \n",
    "    optimizer = Adam(learning_rate=0.001)#, decay=0.00001)\n",
    "    model.compile(loss='categorical_crossentropy', optimizer=optimizer, metrics=['accuracy'])\n",
    "    return model"
   ]
  },
  {
   "cell_type": "code",
   "execution_count": 11,
   "metadata": {},
   "outputs": [],
   "source": [
    "cnn_model = cnn_model()"
   ]
  },
  {
   "cell_type": "code",
   "execution_count": 13,
   "metadata": {},
   "outputs": [],
   "source": [
    "schedule = keras.callbacks.LearningRateScheduler(lambda epoch: 0.0001 * 10**(epoch / 10),4)"
   ]
  },
  {
   "cell_type": "code",
   "execution_count": 14,
   "metadata": {},
   "outputs": [
    {
     "name": "stdout",
     "output_type": "stream",
     "text": [
      "\n",
      "Epoch 00001: LearningRateScheduler reducing learning rate to 0.0001.\n",
      "\n",
      "Epoch 00002: LearningRateScheduler reducing learning rate to 0.00012589254117941674.\n",
      "\n",
      "Epoch 00003: LearningRateScheduler reducing learning rate to 0.00015848931924611136.\n",
      "\n",
      "Epoch 00004: LearningRateScheduler reducing learning rate to 0.00019952623149688796.\n",
      "\n",
      "Epoch 00005: LearningRateScheduler reducing learning rate to 0.000251188643150958.\n",
      "\n",
      "Epoch 00006: LearningRateScheduler reducing learning rate to 0.000316227766016838.\n",
      "\n",
      "Epoch 00007: LearningRateScheduler reducing learning rate to 0.00039810717055349724.\n",
      "\n",
      "Epoch 00008: LearningRateScheduler reducing learning rate to 0.0005011872336272722.\n",
      "\n",
      "Epoch 00009: LearningRateScheduler reducing learning rate to 0.0006309573444801934.\n",
      "\n",
      "Epoch 00010: LearningRateScheduler reducing learning rate to 0.0007943282347242816.\n"
     ]
    }
   ],
   "source": [
    "cnn_history = cnn_model.fit(x_train, y_train_list, \n",
    "                            validation_data=(x_valid, y_valid_list), \n",
    "                            epochs=10,batch_size=128, callbacks=schedule, verbose=0)"
   ]
  },
  {
   "cell_type": "code",
   "execution_count": 18,
   "metadata": {},
   "outputs": [
    {
     "data": {
      "image/png": "[encoded data removed]",
      "text/plain": [
       "<Figure size 432x288 with 1 Axes>"
      ]
     },
     "metadata": {
      "needs_background": "light"
     },
     "output_type": "display_data"
    }
   ],
   "source": [
    "plt.semilogx(cnn_history.history['lr'], cnn_history.history['loss'])\n",
    "plt.axis([0.0001, 0.1, 0, 2.5])\n",
    "plt.xlabel('Learning Rate')\n",
    "plt.ylabel('Training Loss')\n",
    "plt.show()"
   ]
  },
  {
   "cell_type": "code",
   "execution_count": 16,
   "metadata": {},
   "outputs": [
    {
     "name": "stdout",
     "output_type": "stream",
     "text": [
      "Model: \"model\"\n",
      "__________________________________________________________________________________________________\n",
      "Layer (type)                    Output Shape         Param #     Connected to                     \n",
      "==================================================================================================\n",
      "input_1 (InputLayer)            [(None, 32, 32, 1)]  0                                            \n",
      "__________________________________________________________________________________________________\n",
      "conv2d (Conv2D)                 (None, 32, 32, 32)   320         input_1[0][0]                    \n",
      "__________________________________________________________________________________________________\n",
      "max_pooling2d (MaxPooling2D)    (None, 16, 16, 32)   0           conv2d[0][0]                     \n",
      "__________________________________________________________________________________________________\n",
      "conv2d_1 (Conv2D)               (None, 14, 14, 32)   9248        max_pooling2d[0][0]              \n",
      "__________________________________________________________________________________________________\n",
      "max_pooling2d_1 (MaxPooling2D)  (None, 7, 7, 32)     0           conv2d_1[0][0]                   \n",
      "__________________________________________________________________________________________________\n",
      "batch_normalization_1 (BatchNor (None, 7, 7, 32)     128         max_pooling2d_1[0][0]            \n",
      "__________________________________________________________________________________________________\n",
      "conv2d_2 (Conv2D)               (None, 5, 5, 64)     18496       batch_normalization_1[0][0]      \n",
      "__________________________________________________________________________________________________\n",
      "conv2d_3 (Conv2D)               (None, 3, 3, 64)     36928       conv2d_2[0][0]                   \n",
      "__________________________________________________________________________________________________\n",
      "dropout (Dropout)               (None, 3, 3, 64)     0           conv2d_3[0][0]                   \n",
      "__________________________________________________________________________________________________\n",
      "conv2d_4 (Conv2D)               (None, 1, 1, 128)    73856       dropout[0][0]                    \n",
      "__________________________________________________________________________________________________\n",
      "batch_normalization_2 (BatchNor (None, 1, 1, 128)    512         conv2d_4[0][0]                   \n",
      "__________________________________________________________________________________________________\n",
      "flatten (Flatten)               (None, 128)          0           batch_normalization_2[0][0]      \n",
      "__________________________________________________________________________________________________\n",
      "dense (Dense)                   (None, 512)          66048       flatten[0][0]                    \n",
      "__________________________________________________________________________________________________\n",
      "dropout_1 (Dropout)             (None, 512)          0           dense[0][0]                      \n",
      "__________________________________________________________________________________________________\n",
      "dense_1 (Dense)                 (None, 11)           5643        dropout_1[0][0]                  \n",
      "__________________________________________________________________________________________________\n",
      "dense_2 (Dense)                 (None, 11)           5643        dropout_1[0][0]                  \n",
      "__________________________________________________________________________________________________\n",
      "dense_3 (Dense)                 (None, 11)           5643        dropout_1[0][0]                  \n",
      "__________________________________________________________________________________________________\n",
      "dense_4 (Dense)                 (None, 11)           5643        dropout_1[0][0]                  \n",
      "__________________________________________________________________________________________________\n",
      "dense_5 (Dense)                 (None, 11)           5643        dropout_1[0][0]                  \n",
      "==================================================================================================\n",
      "Total params: 233,751\n",
      "Trainable params: 233,431\n",
      "Non-trainable params: 320\n",
      "__________________________________________________________________________________________________\n"
     ]
    }
   ],
   "source": [
    "cnn_model.summary()"
   ]
  },
  {
   "cell_type": "code",
   "execution_count": 17,
   "metadata": {},
   "outputs": [
    {
     "name": "stdout",
     "output_type": "stream",
     "text": [
      "dict_keys(['loss', 'dense_1_loss', 'dense_2_loss', 'dense_3_loss', 'dense_4_loss', 'dense_5_loss', 'dense_1_accuracy', 'dense_2_accuracy', 'dense_3_accuracy', 'dense_4_accuracy', 'dense_5_accuracy', 'val_loss', 'val_dense_1_loss', 'val_dense_2_loss', 'val_dense_3_loss', 'val_dense_4_loss', 'val_dense_5_loss', 'val_dense_1_accuracy', 'val_dense_2_accuracy', 'val_dense_3_accuracy', 'val_dense_4_accuracy', 'val_dense_5_accuracy', 'lr'])\n"
     ]
    }
   ],
   "source": [
    "print(cnn_history.history.keys())"
   ]
  },
  {
   "cell_type": "code",
   "execution_count": 21,
   "metadata": {},
   "outputs": [
    {
     "data": {
      "image/png": "[encoded data removed]",
      "text/plain": [
       "<Figure size 1008x504 with 1 Axes>"
      ]
     },
     "metadata": {
      "needs_background": "light"
     },
     "output_type": "display_data"
    }
   ],
   "source": [
    "plt.figure(figsize=(14, 7))\n",
    "\n",
    "plt.plot(cnn_history.history['dense_1_accuracy'], label = 'First digit')\n",
    "plt.plot(cnn_history.history['dense_2_accuracy'], label = 'Second digit')\n",
    "plt.plot(cnn_history.history['dense_3_accuracy'], label = 'Third digit')\n",
    "plt.plot(cnn_history.history['dense_4_accuracy'], label = 'Fourth digit')\n",
    "plt.plot(cnn_history.history['dense_5_accuracy'], label = 'Fifth digit')\n",
    "\n",
    "plt.legend()\n",
    "plt.title('Accuracy')\n",
    "plt.show()"
   ]
  },
  {
   "cell_type": "code",
   "execution_count": null,
   "metadata": {},
   "outputs": [],
   "source": [
    "print(cnn_history.history.keys())"
   ]
  },
  {
   "cell_type": "code",
   "execution_count": null,
   "metadata": {},
   "outputs": [],
   "source": [
    "cnn_model().summary()"
   ]
  },
  {
   "cell_type": "code",
   "execution_count": null,
   "metadata": {},
   "outputs": [],
   "source": []
  }
 ],
 "metadata": {
  "kernelspec": {
   "display_name": "Python 3",
   "language": "python",
   "name": "python3"
  },
  "language_info": {
   "codemirror_mode": {
    "name": "ipython",
    "version": 3
   },
   "file_extension": ".py",
   "mimetype": "text/x-python",
   "name": "python",
   "nbconvert_exporter": "python",
   "pygments_lexer": "ipython3",
   "version": "3.7.6"
  }
 },
 "nbformat": 4,
 "nbformat_minor": 4
}
