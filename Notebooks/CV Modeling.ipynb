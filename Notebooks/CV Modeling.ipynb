{
 "cells": [
  {
   "cell_type": "code",
   "execution_count": 22,
   "metadata": {},
   "outputs": [],
   "source": [
    "import os\n",
    "import sys\n",
    "import numpy as np\n",
    "import tensorflow as tf\n",
    "from tensorflow import keras\n",
    "from tensorflow.keras.models import Sequential\n",
    "from tensorflow.keras.layers import Activation, Dense, Flatten, BatchNormalization, Conv2D, MaxPooling2D, Dropout\n",
    "from tensorflow.keras.optimizers import Adam\n",
    "from tensorflow.keras.metrics import categorical_crossentropy\n",
    "from tensorflow.keras.preprocessing.image import ImageDataGenerator\n",
    "from tensorflow.keras.callbacks import EarlyStopping\n",
    "from scipy.io import loadmat\n",
    "from sklearn.metrics import confusion_matrix\n",
    "from sklearn.preprocessing import LabelBinarizer\n",
    "from sklearn.model_selection import train_test_split\n",
    "import shutil\n",
    "import glob\n",
    "import matplotlib.pyplot as plt\n",
    "import warnings\n",
    "warnings.simplefilter(action='ignore', category=FutureWarning)\n",
    "%matplotlib inline"
   ]
  },
  {
   "cell_type": "code",
   "execution_count": 7,
   "metadata": {},
   "outputs": [],
   "source": [
    "# load the train and test data\n",
    "\n",
    "train = loadmat('../Data/train_32x32.mat')\n",
    "test = loadmat('../Data/test_32x32.mat')"
   ]
  },
  {
   "cell_type": "code",
   "execution_count": 9,
   "metadata": {},
   "outputs": [],
   "source": [
    "# loading the images and labels as arrays\n",
    "\n",
    "train_img = np.array(train['X'])\n",
    "test_img = np.array(test['X'])\n",
    "\n",
    "train_labels = train['y']\n",
    "test_labels = test['y']"
   ]
  },
  {
   "cell_type": "code",
   "execution_count": 10,
   "metadata": {},
   "outputs": [],
   "source": [
    "train_img = np.moveaxis(train_img, 3, 0)\n",
    "test_img = np.moveaxis(test_img, 3, 0)"
   ]
  },
  {
   "cell_type": "code",
   "execution_count": 13,
   "metadata": {},
   "outputs": [
    {
     "data": {
      "image/png": "[encoded data removed]",
      "text/plain": [
       "<Figure size 432x288 with 1 Axes>"
      ]
     },
     "metadata": {
      "needs_background": "light"
     },
     "output_type": "display_data"
    },
    {
     "name": "stdout",
     "output_type": "stream",
     "text": [
      "Image label:  [9]\n"
     ]
    }
   ],
   "source": [
    "# check out in image\n",
    "# plot a random image and its label\n",
    "\n",
    "plt.imshow(train_img[73256])\n",
    "plt.show()\n",
    "\n",
    "print('Image label: ', train_labels[73256])"
   ]
  },
  {
   "cell_type": "code",
   "execution_count": 17,
   "metadata": {},
   "outputs": [],
   "source": [
    "# one-hot encoding of train and test labels\n",
    "\n",
    "lb = LabelBinarizer()\n",
    "train_labels = lb.fit_transform(train_labels)\n",
    "test_labels = lb.fit_transform(test_labels)"
   ]
  },
  {
   "cell_type": "code",
   "execution_count": 29,
   "metadata": {},
   "outputs": [],
   "source": [
    "datagen = ImageDataGenerator(rotation_range=8,\n",
    "                             zoom_range=[0.95, 1.05],\n",
    "                             height_shift_range=0.10,\n",
    "                             shear_range=0.15)"
   ]
  },
  {
   "cell_type": "code",
   "execution_count": 30,
   "metadata": {},
   "outputs": [],
   "source": [
    "X_train, X_valid, y_train, y_valid = train_test_split(train_img, train_labels, test_size=0.15, random_state=42)"
   ]
  },
  {
   "cell_type": "code",
   "execution_count": 23,
   "metadata": {},
   "outputs": [],
   "source": [
    "model = Sequential()\n",
    "model.add(Conv2D(32, kernel_size=3, input_shape=(32, 32, 3), padding=\"same\"))\n",
    "model.add(BatchNormalization())\n",
    "model.add(Activation('relu'))\n",
    "model.add(Conv2D(32, 3, padding=\"same\"))\n",
    "model.add(BatchNormalization())\n",
    "model.add(Activation('relu'))\n",
    "model.add(MaxPooling2D(pool_size=2))\n",
    "model.add(Dropout(0.3))\n",
    "\n",
    "model.add(Conv2D(64, 3))\n",
    "model.add(BatchNormalization())\n",
    "model.add(Activation('relu'))\n",
    "model.add(Conv2D(64, 3, padding=\"same\"))\n",
    "model.add(BatchNormalization())\n",
    "model.add(Activation('relu'))\n",
    "model.add(MaxPooling2D(pool_size=2))\n",
    "model.add(Dropout(0.3))\n",
    "\n",
    "model.add(Conv2D(128, 3))\n",
    "model.add(BatchNormalization())\n",
    "model.add(Activation('relu'))\n",
    "model.add(Conv2D(128, 3, padding=\"same\"))\n",
    "model.add(BatchNormalization())\n",
    "model.add(Activation('relu'))\n",
    "model.add(MaxPooling2D(pool_size=2))\n",
    "model.add(Dropout(0.3))\n",
    "\n",
    "model.add(Flatten())\n",
    "model.add(Dense(512, activation='relu'))\n",
    "model.add(Dropout(0.3))\n",
    "\n",
    "model.add(Dense(10, activation='softmax'))"
   ]
  },
  {
   "cell_type": "code",
   "execution_count": 26,
   "metadata": {},
   "outputs": [],
   "source": [
    "early_stopping = EarlyStopping(patience=5)\n",
    "\n",
    "model.compile(optimizer=Adam(learning_rate=0.01, amsgrad=True), loss='categorical_crossentropy', metrics=['accuracy'])"
   ]
  },
  {
   "cell_type": "code",
   "execution_count": 27,
   "metadata": {},
   "outputs": [
    {
     "name": "stdout",
     "output_type": "stream",
     "text": [
      "Model: \"sequential_3\"\n",
      "_________________________________________________________________\n",
      "Layer (type)                 Output Shape              Param #   \n",
      "=================================================================\n",
      "conv2d_4 (Conv2D)            (None, 32, 32, 32)        896       \n",
      "_________________________________________________________________\n",
      "batch_normalization_4 (Batch (None, 32, 32, 32)        128       \n",
      "_________________________________________________________________\n",
      "activation_4 (Activation)    (None, 32, 32, 32)        0         \n",
      "_________________________________________________________________\n",
      "conv2d_5 (Conv2D)            (None, 32, 32, 32)        9248      \n",
      "_________________________________________________________________\n",
      "batch_normalization_5 (Batch (None, 32, 32, 32)        128       \n",
      "_________________________________________________________________\n",
      "activation_5 (Activation)    (None, 32, 32, 32)        0         \n",
      "_________________________________________________________________\n",
      "max_pooling2d (MaxPooling2D) (None, 16, 16, 32)        0         \n",
      "_________________________________________________________________\n",
      "dropout (Dropout)            (None, 16, 16, 32)        0         \n",
      "_________________________________________________________________\n",
      "conv2d_6 (Conv2D)            (None, 14, 14, 64)        18496     \n",
      "_________________________________________________________________\n",
      "batch_normalization_6 (Batch (None, 14, 14, 64)        256       \n",
      "_________________________________________________________________\n",
      "activation_6 (Activation)    (None, 14, 14, 64)        0         \n",
      "_________________________________________________________________\n",
      "conv2d_7 (Conv2D)            (None, 14, 14, 64)        36928     \n",
      "_________________________________________________________________\n",
      "batch_normalization_7 (Batch (None, 14, 14, 64)        256       \n",
      "_________________________________________________________________\n",
      "activation_7 (Activation)    (None, 14, 14, 64)        0         \n",
      "_________________________________________________________________\n",
      "max_pooling2d_1 (MaxPooling2 (None, 7, 7, 64)          0         \n",
      "_________________________________________________________________\n",
      "dropout_1 (Dropout)          (None, 7, 7, 64)          0         \n",
      "_________________________________________________________________\n",
      "conv2d_8 (Conv2D)            (None, 5, 5, 128)         73856     \n",
      "_________________________________________________________________\n",
      "batch_normalization_8 (Batch (None, 5, 5, 128)         512       \n",
      "_________________________________________________________________\n",
      "activation_8 (Activation)    (None, 5, 5, 128)         0         \n",
      "_________________________________________________________________\n",
      "conv2d_9 (Conv2D)            (None, 5, 5, 128)         147584    \n",
      "_________________________________________________________________\n",
      "batch_normalization_9 (Batch (None, 5, 5, 128)         512       \n",
      "_________________________________________________________________\n",
      "activation_9 (Activation)    (None, 5, 5, 128)         0         \n",
      "_________________________________________________________________\n",
      "max_pooling2d_2 (MaxPooling2 (None, 2, 2, 128)         0         \n",
      "_________________________________________________________________\n",
      "dropout_2 (Dropout)          (None, 2, 2, 128)         0         \n",
      "_________________________________________________________________\n",
      "flatten (Flatten)            (None, 512)               0         \n",
      "_________________________________________________________________\n",
      "dense (Dense)                (None, 512)               262656    \n",
      "_________________________________________________________________\n",
      "dropout_3 (Dropout)          (None, 512)               0         \n",
      "_________________________________________________________________\n",
      "dense_1 (Dense)              (None, 10)                5130      \n",
      "=================================================================\n",
      "Total params: 556,586\n",
      "Trainable params: 555,690\n",
      "Non-trainable params: 896\n",
      "_________________________________________________________________\n"
     ]
    }
   ],
   "source": [
    "model.summary()"
   ]
  },
  {
   "cell_type": "code",
   "execution_count": 32,
   "metadata": {},
   "outputs": [
    {
     "name": "stdout",
     "output_type": "stream",
     "text": [
      "Epoch 1/28\n",
      "487/487 - 169s - loss: 0.3729 - accuracy: 0.8911 - val_loss: 0.2944 - val_accuracy: 0.9111\n",
      "Epoch 2/28\n",
      "487/487 - 200s - loss: 0.3539 - accuracy: 0.8959 - val_loss: 0.2299 - val_accuracy: 0.9354\n",
      "Epoch 3/28\n",
      "487/487 - 214s - loss: 0.3351 - accuracy: 0.9032 - val_loss: 0.2419 - val_accuracy: 0.9330\n",
      "Epoch 4/28\n",
      "487/487 - 211s - loss: 0.3255 - accuracy: 0.9056 - val_loss: 0.2363 - val_accuracy: 0.9349\n",
      "Epoch 5/28\n",
      "487/487 - 216s - loss: 0.3137 - accuracy: 0.9098 - val_loss: 0.2348 - val_accuracy: 0.9356\n",
      "Epoch 6/28\n",
      "487/487 - 193s - loss: 0.2996 - accuracy: 0.9146 - val_loss: 0.2394 - val_accuracy: 0.9323\n",
      "Epoch 7/28\n",
      "487/487 - 194s - loss: 0.2863 - accuracy: 0.9178 - val_loss: 0.2254 - val_accuracy: 0.9359\n",
      "Epoch 8/28\n",
      "487/487 - 196s - loss: 0.2814 - accuracy: 0.9198 - val_loss: 0.2109 - val_accuracy: 0.9422\n",
      "Epoch 9/28\n",
      "487/487 - 197s - loss: 0.2738 - accuracy: 0.9221 - val_loss: 0.2187 - val_accuracy: 0.9408\n",
      "Epoch 10/28\n",
      "487/487 - 197s - loss: 0.2657 - accuracy: 0.9240 - val_loss: 0.2128 - val_accuracy: 0.9421\n",
      "Epoch 11/28\n",
      "487/487 - 194s - loss: 0.2639 - accuracy: 0.9249 - val_loss: 0.2249 - val_accuracy: 0.9398\n",
      "Epoch 12/28\n",
      "487/487 - 195s - loss: 0.2570 - accuracy: 0.9271 - val_loss: 0.1981 - val_accuracy: 0.9478\n",
      "Epoch 13/28\n",
      "487/487 - 192s - loss: 0.2561 - accuracy: 0.9266 - val_loss: 0.1899 - val_accuracy: 0.9485\n",
      "Epoch 14/28\n",
      "487/487 - 192s - loss: 0.2515 - accuracy: 0.9282 - val_loss: 0.2061 - val_accuracy: 0.9416\n",
      "Epoch 15/28\n",
      "487/487 - 195s - loss: 0.2429 - accuracy: 0.9303 - val_loss: 0.1970 - val_accuracy: 0.9468\n",
      "Epoch 16/28\n",
      "487/487 - 191s - loss: 0.2440 - accuracy: 0.9302 - val_loss: 0.1951 - val_accuracy: 0.9471\n",
      "Epoch 17/28\n",
      "487/487 - 191s - loss: 0.2392 - accuracy: 0.9310 - val_loss: 0.2242 - val_accuracy: 0.9366\n",
      "Epoch 18/28\n",
      "487/487 - 191s - loss: 0.2375 - accuracy: 0.9316 - val_loss: 0.1894 - val_accuracy: 0.9500\n",
      "Epoch 19/28\n",
      "487/487 - 209s - loss: 0.2336 - accuracy: 0.9334 - val_loss: 0.2009 - val_accuracy: 0.9471\n",
      "Epoch 20/28\n",
      "487/487 - 236s - loss: 0.2309 - accuracy: 0.9341 - val_loss: 0.1989 - val_accuracy: 0.9477\n",
      "Epoch 21/28\n",
      "487/487 - 202s - loss: 0.2288 - accuracy: 0.9348 - val_loss: 0.2014 - val_accuracy: 0.9462\n",
      "Epoch 22/28\n",
      "487/487 - 194s - loss: 0.2236 - accuracy: 0.9366 - val_loss: 0.1850 - val_accuracy: 0.9521\n",
      "Epoch 23/28\n",
      "487/487 - 193s - loss: 0.2247 - accuracy: 0.9340 - val_loss: 0.1897 - val_accuracy: 0.9498\n",
      "Epoch 24/28\n",
      "487/487 - 199s - loss: 0.2216 - accuracy: 0.9365 - val_loss: 0.1899 - val_accuracy: 0.9486\n",
      "Epoch 25/28\n",
      "487/487 - 195s - loss: 0.2178 - accuracy: 0.9372 - val_loss: 0.1929 - val_accuracy: 0.9497\n",
      "Epoch 26/28\n",
      "487/487 - 193s - loss: 0.2123 - accuracy: 0.9388 - val_loss: 0.1893 - val_accuracy: 0.9499\n",
      "Epoch 27/28\n",
      "487/487 - 194s - loss: 0.2088 - accuracy: 0.9402 - val_loss: 0.1858 - val_accuracy: 0.9522\n"
     ]
    }
   ],
   "source": [
    "report = model.fit(datagen.flow(X_train, y_train, batch_size=128),\n",
    "                   epochs=28,\n",
    "                   validation_data=(X_valid, y_valid),\n",
    "                   callbacks=[early_stopping],\n",
    "                   verbose=2)"
   ]
  },
  {
   "cell_type": "code",
   "execution_count": null,
   "metadata": {},
   "outputs": [],
   "source": []
  }
 ],
 "metadata": {
  "kernelspec": {
   "display_name": "Python 3",
   "language": "python",
   "name": "python3"
  },
  "language_info": {
   "codemirror_mode": {
    "name": "ipython",
    "version": 3
   },
   "file_extension": ".py",
   "mimetype": "text/x-python",
   "name": "python",
   "nbconvert_exporter": "python",
   "pygments_lexer": "ipython3",
   "version": "3.7.6"
  }
 },
 "nbformat": 4,
 "nbformat_minor": 4
}
