{
 "cells": [
  {
   "cell_type": "code",
   "execution_count": 1,
   "metadata": {},
   "outputs": [],
   "source": [
    "import numpy as np\n",
    "import tensorflow as tf\n",
    "from tensorflow import keras\n",
    "from tensorflow.keras.models import Sequential\n",
    "from tensorflow.keras.layers import Activation, Dense, Flatten, BatchNormalization, Conv2D, MaxPooling2D, Dropout\n",
    "from tensorflow.keras.optimizers import Adam\n",
    "from tensorflow.keras.metrics import categorical_crossentropy\n",
    "from tensorflow.keras.preprocessing.image import ImageDataGenerator\n",
    "from tensorflow.keras.callbacks import EarlyStopping\n",
    "from sklearn.metrics import confusion_matrix\n",
    "from sklearn.preprocessing import LabelBinarizer\n",
    "from sklearn.model_selection import train_test_split\n",
    "from scipy.io import loadmat\n",
    "import matplotlib.pyplot as plt\n",
    "import warnings\n",
    "warnings.simplefilter(action='ignore', category=FutureWarning)\n",
    "%matplotlib inline"
   ]
  },
  {
   "cell_type": "code",
   "execution_count": 2,
   "metadata": {},
   "outputs": [],
   "source": [
    "# load the train and test data\n",
    "\n",
    "train = loadmat('../Data/train_32x32.mat')\n",
    "test = loadmat('../Data/test_32x32.mat')"
   ]
  },
  {
   "cell_type": "code",
   "execution_count": 3,
   "metadata": {},
   "outputs": [
    {
     "data": {
      "text/plain": [
       "dict_keys(['__header__', '__version__', '__globals__', 'X', 'y'])"
      ]
     },
     "execution_count": 3,
     "metadata": {},
     "output_type": "execute_result"
    }
   ],
   "source": [
    "# loadmat outputs a dictionary with the keys 'X' as the photos and 'y' as the labels\n",
    "\n",
    "train.keys()"
   ]
  },
  {
   "cell_type": "code",
   "execution_count": 4,
   "metadata": {},
   "outputs": [],
   "source": [
    "# load the images and labels as arrays\n",
    "\n",
    "train_img = np.array(train['X'])\n",
    "test_img = np.array(test['X'])\n",
    "\n",
    "train_labels = train['y']\n",
    "test_labels = test['y']"
   ]
  },
  {
   "cell_type": "code",
   "execution_count": 5,
   "metadata": {},
   "outputs": [
    {
     "name": "stdout",
     "output_type": "stream",
     "text": [
      "(32, 32, 3, 73257)\n",
      "(32, 32, 3, 26032)\n"
     ]
    }
   ],
   "source": [
    "# check the shape of the data\n",
    "\n",
    "print(train_img.shape)\n",
    "print(test_img.shape)"
   ]
  },
  {
   "cell_type": "markdown",
   "metadata": {},
   "source": [
    "#### We see for the training set we have 73,257 images at the size of 32x32 with 3 color channels: red, green, and blue. The test set has 26,032 images with the same characteristics."
   ]
  },
  {
   "cell_type": "code",
   "execution_count": 6,
   "metadata": {},
   "outputs": [],
   "source": [
    "# rearrange the data for ease of use \n",
    "\n",
    "train_img = np.moveaxis(train_img, 3, 0)\n",
    "test_img = np.moveaxis(test_img, 3, 0)"
   ]
  },
  {
   "cell_type": "code",
   "execution_count": 7,
   "metadata": {},
   "outputs": [
    {
     "name": "stdout",
     "output_type": "stream",
     "text": [
      "(73257, 32, 32, 3)\n",
      "(26032, 32, 32, 3)\n"
     ]
    }
   ],
   "source": [
    "print(train_img.shape)\n",
    "print(test_img.shape)"
   ]
  },
  {
   "cell_type": "code",
   "execution_count": 8,
   "metadata": {},
   "outputs": [
    {
     "data": {
      "image/png": "[encoded data removed]",
      "text/plain": [
       "<Figure size 432x288 with 1 Axes>"
      ]
     },
     "metadata": {
      "needs_background": "light"
     },
     "output_type": "display_data"
    },
    {
     "name": "stdout",
     "output_type": "stream",
     "text": [
      "Image label:  [9]\n"
     ]
    }
   ],
   "source": [
    "# check out in image\n",
    "# plot a random image and its label\n",
    "\n",
    "plt.imshow(train_img[73256])\n",
    "plt.show()\n",
    "\n",
    "print('Image label: ', train_labels[73256])"
   ]
  },
  {
   "cell_type": "code",
   "execution_count": 9,
   "metadata": {},
   "outputs": [],
   "source": [
    "# one-hot encode the train and test labels\n",
    "# scikit-learn's LabelBinarizer is used due to the labels being 1 dimensional\n",
    "\n",
    "lb = LabelBinarizer()\n",
    "train_labels = lb.fit_transform(train_labels)\n",
    "test_labels = lb.fit_transform(test_labels)"
   ]
  },
  {
   "cell_type": "code",
   "execution_count": 10,
   "metadata": {},
   "outputs": [],
   "source": [
    "# split the training data into train and validation sets\n",
    "\n",
    "X_train, X_valid, y_train, y_valid = train_test_split(train_img, train_labels, test_size=0.15, random_state=42)"
   ]
  },
  {
   "cell_type": "code",
   "execution_count": 11,
   "metadata": {},
   "outputs": [],
   "source": [
    "# implement ImageDataGenerator to augment the images to easily create more data\n",
    "\n",
    "augdata = ImageDataGenerator(rotation_range=8,\n",
    "                             zoom_range=[0.95, 1.05],\n",
    "                             height_shift_range=0.10,\n",
    "                             shear_range=0.15)"
   ]
  },
  {
   "cell_type": "code",
   "execution_count": 13,
   "metadata": {},
   "outputs": [],
   "source": [
    "# create lr model for determining the optimal learning rate\n",
    "\n",
    "lr_model = Sequential()\n",
    "# layer 1\n",
    "lr_model.add(Conv2D(filters=32, kernel_size=(3,3), activation='relu', padding='same', input_shape=(32, 32, 3))),\n",
    "# add a normalization layer to regularize and accelerate the training process\n",
    "lr_model.add(BatchNormalization()),\n",
    "# layer 2\n",
    "lr_model.add(Conv2D(filters=32, kernel_size=(3,3), activation='relu', padding='same')),\n",
    "lr_model.add(MaxPooling2D(pool_size=2)),\n",
    "lr_model.add(Dropout(0.3)),\n",
    "# layer 3\n",
    "lr_model.add(Conv2D(filters=32, kernel_size=(3,3), activation='relu', padding='same')),\n",
    "lr_model.add(BatchNormalization()),\n",
    "# layer 4\n",
    "lr_model.add(Conv2D(filters=32, kernel_size=(3,3), activation='relu', padding='same')),\n",
    "lr_model.add(MaxPooling2D(pool_size=2)),\n",
    "lr_model.add(Dropout(0.3)),\n",
    "# layer 5\n",
    "lr_model.add(Conv2D(filters=32, kernel_size=(3,3), activation='relu', padding='same')),\n",
    "lr_model.add(BatchNormalization()),\n",
    "# layer 6\n",
    "lr_model.add(Conv2D(filters=32, kernel_size=(3,3), activation='relu', padding='same')),\n",
    "lr_model.add(MaxPooling2D(pool_size=2)),\n",
    "lr_model.add(Dropout(0.3)),\n",
    "# layer 7\n",
    "lr_model.add(Flatten()),\n",
    "lr_model.add(Dense(units=128, activation='relu')),\n",
    "lr_model.add(Dropout(0.4)),\n",
    "# layer 8\n",
    "lr_model.add(Dense(units=10, activation='softmax'))\n",
    "\n",
    "# define a learning rate scheduler in order to iterate through the range of potential learning rates\n",
    "# the lambda function creates a range from 0.0001 increasing with each epoch to 0.1\n",
    "lr_schedule = keras.callbacks.LearningRateScheduler(lambda epoch: 0.0001 * 10**(epoch / 10))\n",
    "\n",
    "# define the Adam optimizer for faster weight optimization\n",
    "optimizer = keras.optimizers.Adam(learning_rate=0.001, amsgrad=True)\n",
    "\n",
    "# compile the model with loss calculated using categorical crossentropy and metrics focused on accuracy\n",
    "# categorical crossentropy is used due to the number of label classes which are one-hot encoded\n",
    "# accuracy = how often the predictions match the labels\n",
    "lr_model.compile(optimizer=optimizer, loss='categorical_crossentropy', metrics=['accuracy'])"
   ]
  },
  {
   "cell_type": "code",
   "execution_count": 14,
   "metadata": {},
   "outputs": [
    {
     "name": "stdout",
     "output_type": "stream",
     "text": [
      "Model: \"sequential_1\"\n",
      "_________________________________________________________________\n",
      "Layer (type)                 Output Shape              Param #   \n",
      "=================================================================\n",
      "conv2d_2 (Conv2D)            (None, 32, 32, 32)        896       \n",
      "_________________________________________________________________\n",
      "batch_normalization_1 (Batch (None, 32, 32, 32)        128       \n",
      "_________________________________________________________________\n",
      "conv2d_3 (Conv2D)            (None, 32, 32, 32)        9248      \n",
      "_________________________________________________________________\n",
      "max_pooling2d (MaxPooling2D) (None, 16, 16, 32)        0         \n",
      "_________________________________________________________________\n",
      "dropout (Dropout)            (None, 16, 16, 32)        0         \n",
      "_________________________________________________________________\n",
      "conv2d_4 (Conv2D)            (None, 16, 16, 32)        9248      \n",
      "_________________________________________________________________\n",
      "batch_normalization_2 (Batch (None, 16, 16, 32)        128       \n",
      "_________________________________________________________________\n",
      "conv2d_5 (Conv2D)            (None, 16, 16, 32)        9248      \n",
      "_________________________________________________________________\n",
      "max_pooling2d_1 (MaxPooling2 (None, 8, 8, 32)          0         \n",
      "_________________________________________________________________\n",
      "dropout_1 (Dropout)          (None, 8, 8, 32)          0         \n",
      "_________________________________________________________________\n",
      "conv2d_6 (Conv2D)            (None, 8, 8, 32)          9248      \n",
      "_________________________________________________________________\n",
      "batch_normalization_3 (Batch (None, 8, 8, 32)          128       \n",
      "_________________________________________________________________\n",
      "conv2d_7 (Conv2D)            (None, 8, 8, 32)          9248      \n",
      "_________________________________________________________________\n",
      "max_pooling2d_2 (MaxPooling2 (None, 4, 4, 32)          0         \n",
      "_________________________________________________________________\n",
      "dropout_2 (Dropout)          (None, 4, 4, 32)          0         \n",
      "_________________________________________________________________\n",
      "flatten (Flatten)            (None, 512)               0         \n",
      "_________________________________________________________________\n",
      "dense (Dense)                (None, 128)               65664     \n",
      "_________________________________________________________________\n",
      "dropout_3 (Dropout)          (None, 128)               0         \n",
      "_________________________________________________________________\n",
      "dense_1 (Dense)              (None, 10)                1290      \n",
      "=================================================================\n",
      "Total params: 114,474\n",
      "Trainable params: 114,282\n",
      "Non-trainable params: 192\n",
      "_________________________________________________________________\n"
     ]
    }
   ],
   "source": [
    "lr_model.summary()"
   ]
  },
  {
   "cell_type": "code",
   "execution_count": 15,
   "metadata": {},
   "outputs": [
    {
     "name": "stdout",
     "output_type": "stream",
     "text": [
      "Epoch 1/30\n",
      "487/487 - 129s - loss: 2.4754 - accuracy: 0.1435 - val_loss: 2.2440 - val_accuracy: 0.1940\n",
      "Epoch 2/30\n",
      "487/487 - 140s - loss: 2.2631 - accuracy: 0.1696 - val_loss: 2.2126 - val_accuracy: 0.1937\n",
      "Epoch 3/30\n",
      "487/487 - 141s - loss: 2.2040 - accuracy: 0.1912 - val_loss: 2.1499 - val_accuracy: 0.2474\n",
      "Epoch 4/30\n",
      "487/487 - 159s - loss: 1.8377 - accuracy: 0.3496 - val_loss: 1.3550 - val_accuracy: 0.5587\n",
      "Epoch 5/30\n",
      "487/487 - 157s - loss: 1.3595 - accuracy: 0.5368 - val_loss: 0.8732 - val_accuracy: 0.7278\n",
      "Epoch 6/30\n",
      "487/487 - 154s - loss: 1.0612 - accuracy: 0.6506 - val_loss: 0.5932 - val_accuracy: 0.8274\n",
      "Epoch 7/30\n",
      "487/487 - 150s - loss: 0.8670 - accuracy: 0.7205 - val_loss: 0.4682 - val_accuracy: 0.8610\n",
      "Epoch 8/30\n",
      "487/487 - 146s - loss: 0.7328 - accuracy: 0.7697 - val_loss: 0.4158 - val_accuracy: 0.8731\n",
      "Epoch 9/30\n",
      "487/487 - 144s - loss: 0.6404 - accuracy: 0.8002 - val_loss: 0.4452 - val_accuracy: 0.8650\n",
      "Epoch 10/30\n",
      "487/487 - 143s - loss: 0.5800 - accuracy: 0.8214 - val_loss: 0.3248 - val_accuracy: 0.9050\n",
      "Epoch 11/30\n",
      "487/487 - 133s - loss: 0.5299 - accuracy: 0.8387 - val_loss: 0.3346 - val_accuracy: 0.9033\n",
      "Epoch 12/30\n",
      "487/487 - 136s - loss: 0.5028 - accuracy: 0.8480 - val_loss: 0.2969 - val_accuracy: 0.9126\n",
      "Epoch 13/30\n",
      "487/487 - 137s - loss: 0.4843 - accuracy: 0.8546 - val_loss: 0.3023 - val_accuracy: 0.9104\n",
      "Epoch 14/30\n",
      "487/487 - 138s - loss: 0.4586 - accuracy: 0.8625 - val_loss: 0.2862 - val_accuracy: 0.9145\n",
      "Epoch 15/30\n",
      "487/487 - 139s - loss: 0.4489 - accuracy: 0.8644 - val_loss: 0.3717 - val_accuracy: 0.8868\n",
      "Epoch 16/30\n",
      "487/487 - 138s - loss: 0.4458 - accuracy: 0.8673 - val_loss: 0.3148 - val_accuracy: 0.9076\n",
      "Epoch 17/30\n",
      "487/487 - 139s - loss: 0.4426 - accuracy: 0.8684 - val_loss: 0.3062 - val_accuracy: 0.9134\n",
      "Epoch 18/30\n",
      "487/487 - 138s - loss: 0.4434 - accuracy: 0.8688 - val_loss: 0.3840 - val_accuracy: 0.8871\n",
      "Epoch 19/30\n",
      "487/487 - 139s - loss: 0.4464 - accuracy: 0.8676 - val_loss: 0.4248 - val_accuracy: 0.8706\n",
      "Epoch 20/30\n",
      "487/487 - 138s - loss: 0.4383 - accuracy: 0.8704 - val_loss: 0.3025 - val_accuracy: 0.9150\n",
      "Epoch 21/30\n",
      "487/487 - 137s - loss: 0.4467 - accuracy: 0.8693 - val_loss: 0.3144 - val_accuracy: 0.9097\n",
      "Epoch 22/30\n",
      "487/487 - 139s - loss: 0.4549 - accuracy: 0.8656 - val_loss: 0.3373 - val_accuracy: 0.8997\n",
      "Epoch 23/30\n",
      "487/487 - 137s - loss: 0.4747 - accuracy: 0.8620 - val_loss: 0.3464 - val_accuracy: 0.9021\n",
      "Epoch 24/30\n",
      "487/487 - 139s - loss: 0.5147 - accuracy: 0.8514 - val_loss: 0.3552 - val_accuracy: 0.8991\n",
      "Epoch 25/30\n",
      "487/487 - 140s - loss: 0.5898 - accuracy: 0.8282 - val_loss: 0.3823 - val_accuracy: 0.8990\n",
      "Epoch 26/30\n",
      "487/487 - 139s - loss: 0.6572 - accuracy: 0.8132 - val_loss: 0.4458 - val_accuracy: 0.8741\n",
      "Epoch 27/30\n",
      "487/487 - 138s - loss: 0.8442 - accuracy: 0.7623 - val_loss: 0.5463 - val_accuracy: 0.8499\n",
      "Epoch 28/30\n",
      "487/487 - 139s - loss: 1.0340 - accuracy: 0.7092 - val_loss: 0.5955 - val_accuracy: 0.8427\n",
      "Epoch 29/30\n",
      "487/487 - 137s - loss: 2.1207 - accuracy: 0.2532 - val_loss: 2.2330 - val_accuracy: 0.1940\n",
      "Epoch 30/30\n",
      "487/487 - 135s - loss: 2.2423 - accuracy: 0.1864 - val_loss: 2.2414 - val_accuracy: 0.1940\n"
     ]
    }
   ],
   "source": [
    "# fit the model implementing lr_schedule for future plotting of the learning rates\n",
    "\n",
    "lr_report = lr_model.fit(augdata.flow(X_train, y_train, batch_size=128),\n",
    "                         epochs=30,\n",
    "                         validation_data=(X_valid, y_valid),\n",
    "                         callbacks=[lr_schedule],\n",
    "                         verbose=2)"
   ]
  },
  {
   "cell_type": "code",
   "execution_count": 16,
   "metadata": {},
   "outputs": [
    {
     "data": {
      "image/png": "[encoded data removed]",
      "text/plain": [
       "<Figure size 432x288 with 1 Axes>"
      ]
     },
     "metadata": {
      "needs_background": "light"
     },
     "output_type": "display_data"
    }
   ],
   "source": [
    "# plot learning rate versus loss to visually determine the best learning rate\n",
    "\n",
    "plt.semilogx(lr_report.history['lr'], lr_report.history['loss'])\n",
    "plt.axis([0.0001, 0.1, 0, 2.5])\n",
    "plt.xlabel('Learning Rate')\n",
    "plt.ylabel('Training Loss')\n",
    "plt.show()"
   ]
  },
  {
   "cell_type": "markdown",
   "metadata": {},
   "source": [
    "#### The learning rate seems to be most stable between 0.01 and 0.1. I'll go with a learning rate of 0.01 when compiling my model."
   ]
  },
  {
   "cell_type": "code",
   "execution_count": null,
   "metadata": {},
   "outputs": [],
   "source": [
    "# create the model\n",
    "\n",
    "model = Sequential([\n",
    "    Conv2D(filters=32, kernel_size=3, activation='relu', padding='same', input_shape=(32, 32, 3)),\n",
    "    BatchNormalization(),\n",
    "    Conv2D(filters=32, kernel_size=3, activation='relu', padding='same'),\n",
    "    BatchNormalization(),\n",
    "    MaxPool2D(pool_size=(2,2), strides=2),\n",
    "    Dropout(0.3),\n",
    "    \n",
    "    Conv2D(filters=64, kernel_size=3, activation='relu', padding='same'),\n",
    "    BatchNormalization(),\n",
    "    Conv2D(filters=64, kernel_size=3, activation='relu', padding='same'),\n",
    "    BatchNormalization(),\n",
    "    MaxPool2D(pool_size=(2,2), strides=2),\n",
    "    Dropout(0.3),\n",
    "    \n",
    "    Conv2D(filters=128, kernel_size=3, activation='relu', padding='same'),\n",
    "    BatchNormalization(),\n",
    "    Conv2D(filters=128, kernel_size=(3,3), activation='relu', padding='same'),\n",
    "    BatchNormalization(),\n",
    "    MaxPool2D(pool_size=(2,2), strides=2),\n",
    "    Dropout(0.3),\n",
    "    \n",
    "    Flatten(),\n",
    "    Dense(512, activation='relu'),\n",
    "    Dropout(0.3),\n",
    "    Dense(10, activation='softmax')\n",
    "])"
   ]
  },
  {
   "cell_type": "code",
   "execution_count": 17,
   "metadata": {},
   "outputs": [],
   "source": [
    "# create the model\n",
    "\n",
    "# begin with 32 filters for the first layers\n",
    "model = Sequential()\n",
    "model.add(Conv2D(32, kernel_size=3, input_shape=(32, 32, 3), padding=\"same\"))\n",
    "model.add(BatchNormalization())\n",
    "model.add(Activation('relu'))\n",
    "model.add(Conv2D(32, 3, padding=\"same\"))\n",
    "model.add(BatchNormalization())\n",
    "model.add(Activation('relu'))\n",
    "model.add(MaxPooling2D(pool_size=2))\n",
    "model.add(Dropout(0.3))\n",
    "\n",
    "# double the filters to 64 keeping all other arguments the same\n",
    "model.add(Conv2D(64, 3))\n",
    "model.add(BatchNormalization())\n",
    "model.add(Activation('relu'))\n",
    "model.add(Conv2D(64, 3, padding=\"same\"))\n",
    "model.add(BatchNormalization())\n",
    "model.add(Activation('relu'))\n",
    "model.add(MaxPooling2D(pool_size=2))\n",
    "model.add(Dropout(0.3))\n",
    "\n",
    "# double the filters to 128 keeping all other arguments the same\n",
    "model.add(Conv2D(128, 3))\n",
    "model.add(BatchNormalization())\n",
    "model.add(Activation('relu'))\n",
    "model.add(Conv2D(128, 3, padding=\"same\"))\n",
    "model.add(BatchNormalization())\n",
    "model.add(Activation('relu'))\n",
    "model.add(MaxPooling2D(pool_size=2))\n",
    "model.add(Dropout(0.3))\n",
    "\n",
    "model.add(Flatten())\n",
    "model.add(Dense(512, activation='relu'))\n",
    "model.add(Dropout(0.3))\n",
    "\n",
    "model.add(Dense(10, activation='softmax'))"
   ]
  },
  {
   "cell_type": "code",
   "execution_count": 18,
   "metadata": {},
   "outputs": [],
   "source": [
    "# create an EarlyStopping callback to prevent overfitting\n",
    "\n",
    "early_stopping = EarlyStopping(patience=5)\n",
    "\n",
    "# compile the model using our preferred learning rate of 0.01\n",
    "# loss is calculated using categorical crossentropy\n",
    "# metrics focused on accuracy\n",
    "\n",
    "model.compile(optimizer=Adam(learning_rate=0.01, amsgrad=True), loss='categorical_crossentropy', metrics=['accuracy'])"
   ]
  },
  {
   "cell_type": "code",
   "execution_count": 19,
   "metadata": {},
   "outputs": [
    {
     "name": "stdout",
     "output_type": "stream",
     "text": [
      "Model: \"sequential_2\"\n",
      "_________________________________________________________________\n",
      "Layer (type)                 Output Shape              Param #   \n",
      "=================================================================\n",
      "conv2d_8 (Conv2D)            (None, 32, 32, 32)        896       \n",
      "_________________________________________________________________\n",
      "batch_normalization_4 (Batch (None, 32, 32, 32)        128       \n",
      "_________________________________________________________________\n",
      "activation (Activation)      (None, 32, 32, 32)        0         \n",
      "_________________________________________________________________\n",
      "conv2d_9 (Conv2D)            (None, 32, 32, 32)        9248      \n",
      "_________________________________________________________________\n",
      "batch_normalization_5 (Batch (None, 32, 32, 32)        128       \n",
      "_________________________________________________________________\n",
      "activation_1 (Activation)    (None, 32, 32, 32)        0         \n",
      "_________________________________________________________________\n",
      "max_pooling2d_3 (MaxPooling2 (None, 16, 16, 32)        0         \n",
      "_________________________________________________________________\n",
      "dropout_4 (Dropout)          (None, 16, 16, 32)        0         \n",
      "_________________________________________________________________\n",
      "conv2d_10 (Conv2D)           (None, 14, 14, 64)        18496     \n",
      "_________________________________________________________________\n",
      "batch_normalization_6 (Batch (None, 14, 14, 64)        256       \n",
      "_________________________________________________________________\n",
      "activation_2 (Activation)    (None, 14, 14, 64)        0         \n",
      "_________________________________________________________________\n",
      "conv2d_11 (Conv2D)           (None, 14, 14, 64)        36928     \n",
      "_________________________________________________________________\n",
      "batch_normalization_7 (Batch (None, 14, 14, 64)        256       \n",
      "_________________________________________________________________\n",
      "activation_3 (Activation)    (None, 14, 14, 64)        0         \n",
      "_________________________________________________________________\n",
      "max_pooling2d_4 (MaxPooling2 (None, 7, 7, 64)          0         \n",
      "_________________________________________________________________\n",
      "dropout_5 (Dropout)          (None, 7, 7, 64)          0         \n",
      "_________________________________________________________________\n",
      "conv2d_12 (Conv2D)           (None, 5, 5, 128)         73856     \n",
      "_________________________________________________________________\n",
      "batch_normalization_8 (Batch (None, 5, 5, 128)         512       \n",
      "_________________________________________________________________\n",
      "activation_4 (Activation)    (None, 5, 5, 128)         0         \n",
      "_________________________________________________________________\n",
      "conv2d_13 (Conv2D)           (None, 5, 5, 128)         147584    \n",
      "_________________________________________________________________\n",
      "batch_normalization_9 (Batch (None, 5, 5, 128)         512       \n",
      "_________________________________________________________________\n",
      "activation_5 (Activation)    (None, 5, 5, 128)         0         \n",
      "_________________________________________________________________\n",
      "max_pooling2d_5 (MaxPooling2 (None, 2, 2, 128)         0         \n",
      "_________________________________________________________________\n",
      "dropout_6 (Dropout)          (None, 2, 2, 128)         0         \n",
      "_________________________________________________________________\n",
      "flatten_1 (Flatten)          (None, 512)               0         \n",
      "_________________________________________________________________\n",
      "dense_2 (Dense)              (None, 512)               262656    \n",
      "_________________________________________________________________\n",
      "dropout_7 (Dropout)          (None, 512)               0         \n",
      "_________________________________________________________________\n",
      "dense_3 (Dense)              (None, 10)                5130      \n",
      "=================================================================\n",
      "Total params: 556,586\n",
      "Trainable params: 555,690\n",
      "Non-trainable params: 896\n",
      "_________________________________________________________________\n"
     ]
    }
   ],
   "source": [
    "model.summary()"
   ]
  },
  {
   "cell_type": "code",
   "execution_count": 20,
   "metadata": {},
   "outputs": [
    {
     "name": "stdout",
     "output_type": "stream",
     "text": [
      "Epoch 1/30\n",
      "487/487 - 161s - loss: 2.1802 - accuracy: 0.2439 - val_loss: 2.3692 - val_accuracy: 0.1673\n",
      "Epoch 2/30\n",
      "487/487 - 182s - loss: 0.9283 - accuracy: 0.7040 - val_loss: 0.4354 - val_accuracy: 0.8693\n",
      "Epoch 3/30\n",
      "487/487 - 189s - loss: 0.5514 - accuracy: 0.8348 - val_loss: 0.3401 - val_accuracy: 0.8978\n",
      "Epoch 4/30\n",
      "487/487 - 184s - loss: 0.4669 - accuracy: 0.8627 - val_loss: 0.2894 - val_accuracy: 0.9159\n",
      "Epoch 5/30\n",
      "487/487 - 184s - loss: 0.4208 - accuracy: 0.8784 - val_loss: 0.2774 - val_accuracy: 0.9179\n",
      "Epoch 6/30\n",
      "487/487 - 184s - loss: 0.3839 - accuracy: 0.8897 - val_loss: 0.2802 - val_accuracy: 0.9205\n",
      "Epoch 7/30\n",
      "487/487 - 184s - loss: 0.3659 - accuracy: 0.8953 - val_loss: 0.4808 - val_accuracy: 0.8524\n",
      "Epoch 8/30\n",
      "487/487 - 190s - loss: 0.3484 - accuracy: 0.9001 - val_loss: 0.2660 - val_accuracy: 0.9251\n",
      "Epoch 9/30\n",
      "487/487 - 191s - loss: 0.3314 - accuracy: 0.9057 - val_loss: 0.2649 - val_accuracy: 0.9254\n",
      "Epoch 10/30\n",
      "487/487 - 186s - loss: 0.3195 - accuracy: 0.9095 - val_loss: 0.2715 - val_accuracy: 0.9221\n",
      "Epoch 11/30\n",
      "487/487 - 188s - loss: 0.3064 - accuracy: 0.9125 - val_loss: 0.2807 - val_accuracy: 0.9176\n",
      "Epoch 12/30\n",
      "487/487 - 189s - loss: 0.2957 - accuracy: 0.9156 - val_loss: 0.2199 - val_accuracy: 0.9410\n",
      "Epoch 13/30\n",
      "487/487 - 188s - loss: 0.2880 - accuracy: 0.9172 - val_loss: 0.2335 - val_accuracy: 0.9354\n",
      "Epoch 14/30\n",
      "487/487 - 191s - loss: 0.2798 - accuracy: 0.9205 - val_loss: 0.2212 - val_accuracy: 0.9408\n",
      "Epoch 15/30\n",
      "487/487 - 193s - loss: 0.2778 - accuracy: 0.9216 - val_loss: 0.2179 - val_accuracy: 0.9401\n",
      "Epoch 16/30\n",
      "487/487 - 188s - loss: 0.2700 - accuracy: 0.9231 - val_loss: 0.2303 - val_accuracy: 0.9380\n",
      "Epoch 17/30\n",
      "487/487 - 188s - loss: 0.2618 - accuracy: 0.9265 - val_loss: 0.2382 - val_accuracy: 0.9348\n",
      "Epoch 18/30\n",
      "487/487 - 193s - loss: 0.2587 - accuracy: 0.9269 - val_loss: 0.2269 - val_accuracy: 0.9357\n",
      "Epoch 19/30\n",
      "487/487 - 189s - loss: 0.2547 - accuracy: 0.9286 - val_loss: 0.2110 - val_accuracy: 0.9478\n",
      "Epoch 20/30\n",
      "487/487 - 190s - loss: 0.2486 - accuracy: 0.9298 - val_loss: 0.2309 - val_accuracy: 0.9358\n",
      "Epoch 21/30\n",
      "487/487 - 191s - loss: 0.2470 - accuracy: 0.9295 - val_loss: 0.1992 - val_accuracy: 0.9489\n",
      "Epoch 22/30\n",
      "487/487 - 189s - loss: 0.2381 - accuracy: 0.9317 - val_loss: 0.2151 - val_accuracy: 0.9429\n",
      "Epoch 23/30\n",
      "487/487 - 194s - loss: 0.2378 - accuracy: 0.9334 - val_loss: 0.1979 - val_accuracy: 0.9446\n",
      "Epoch 24/30\n",
      "487/487 - 195s - loss: 0.2341 - accuracy: 0.9332 - val_loss: 0.2066 - val_accuracy: 0.9446\n",
      "Epoch 25/30\n",
      "487/487 - 195s - loss: 0.2308 - accuracy: 0.9336 - val_loss: 0.2045 - val_accuracy: 0.9444\n",
      "Epoch 26/30\n",
      "487/487 - 195s - loss: 0.2261 - accuracy: 0.9362 - val_loss: 0.2034 - val_accuracy: 0.9462\n",
      "Epoch 27/30\n",
      "487/487 - 194s - loss: 0.2244 - accuracy: 0.9362 - val_loss: 0.2016 - val_accuracy: 0.9462\n",
      "Epoch 28/30\n",
      "487/487 - 199s - loss: 0.2244 - accuracy: 0.9367 - val_loss: 0.1848 - val_accuracy: 0.9510\n",
      "Epoch 29/30\n",
      "487/487 - 188s - loss: 0.2217 - accuracy: 0.9365 - val_loss: 0.2236 - val_accuracy: 0.9387\n",
      "Epoch 30/30\n",
      "487/487 - 186s - loss: 0.2159 - accuracy: 0.9381 - val_loss: 0.2042 - val_accuracy: 0.9479\n"
     ]
    }
   ],
   "source": [
    "report = model.fit(augdata.flow(X_train, y_train, batch_size=128),\n",
    "                   epochs=30,\n",
    "                   validation_data=(X_valid, y_valid),\n",
    "                   # added early stopping callback to reduce overfitting\n",
    "                   callbacks=[early_stopping],\n",
    "                   verbose=2)"
   ]
  },
  {
   "cell_type": "markdown",
   "metadata": {},
   "source": [
    "#### After running through 30 epochs we see our training accuracy has increased up to 93.8% and validation accuracy to 94.8%. Had we run more epochs it's possible that the accuracy could have possibly gotten better. However, for the sake of processing time and the fear of overfitting I'll say 30 epochs is good for now."
   ]
  },
  {
   "cell_type": "code",
   "execution_count": 21,
   "metadata": {},
   "outputs": [],
   "source": [
    "# report the results of the model on the training and validation sets\n",
    "\n",
    "train_accuracy = report.history['accuracy']\n",
    "valid_accuracy = report.history['val_accuracy']\n",
    "\n",
    "train_loss = report.history['loss']\n",
    "valid_loss = report.history['val_loss']"
   ]
  },
  {
   "cell_type": "code",
   "execution_count": 23,
   "metadata": {},
   "outputs": [
    {
     "data": {
      "image/png": "[encoded data removed]",
      "text/plain": [
       "<Figure size 1440x720 with 2 Axes>"
      ]
     },
     "metadata": {
      "needs_background": "light"
     },
     "output_type": "display_data"
    }
   ],
   "source": [
    "# visualize the epochs vs. train and validation accuracy and loss\n",
    "\n",
    "plt.figure(figsize=(20,10))\n",
    "plt.subplot(1,2,1)\n",
    "plt.plot(train_accuracy, label='Training Accuracy')\n",
    "plt.plot(valid_accuracy, label='Validation Accuracy')\n",
    "plt.legend()\n",
    "plt.title('Epochs vs. Training and Validation Accuracy')\n",
    "\n",
    "plt.subplot(1,2,2)\n",
    "plt.plot(train_loss, label='Training Loss')\n",
    "plt.plot(valid_loss, label='Validation Loss')\n",
    "plt.legend()\n",
    "plt.title('Epochs vs. Training and Validation Loss')\n",
    "\n",
    "plt.show()"
   ]
  },
  {
   "cell_type": "markdown",
   "metadata": {},
   "source": [
    "#### The plots give us a good visual representation of the progress the model made toward higher accuracy and lower loss."
   ]
  },
  {
   "cell_type": "markdown",
   "metadata": {},
   "source": [
    "#### Now I'll evaluate the model on the unseen test data."
   ]
  },
  {
   "cell_type": "code",
   "execution_count": 26,
   "metadata": {},
   "outputs": [
    {
     "name": "stdout",
     "output_type": "stream",
     "text": [
      "Test accuracy is: 0.9522 \n",
      "Test loss is: 0.1850\n"
     ]
    }
   ],
   "source": [
    "# evaluate the model on test data\n",
    "\n",
    "test_loss, test_accuracy = model.evaluate(x=test_img, y=test_labels, verbose=0)\n",
    "\n",
    "print('Test accuracy is: {:0.4f} \\nTest loss is: {:0.4f}'.format(test_accuracy, test_loss))"
   ]
  },
  {
   "cell_type": "markdown",
   "metadata": {},
   "source": [
    "#### The model performed even better on the test data than the training and validation sets."
   ]
  },
  {
   "cell_type": "code",
   "execution_count": null,
   "metadata": {},
   "outputs": [],
   "source": []
  }
 ],
 "metadata": {
  "kernelspec": {
   "display_name": "Python 3",
   "language": "python",
   "name": "python3"
  },
  "language_info": {
   "codemirror_mode": {
    "name": "ipython",
    "version": 3
   },
   "file_extension": ".py",
   "mimetype": "text/x-python",
   "name": "python",
   "nbconvert_exporter": "python",
   "pygments_lexer": "ipython3",
   "version": "3.7.6"
  }
 },
 "nbformat": 4,
 "nbformat_minor": 4
}
